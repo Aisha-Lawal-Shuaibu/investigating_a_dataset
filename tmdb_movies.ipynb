{
  "nbformat": 4,
  "nbformat_minor": 0,
  "metadata": {
    "colab": {
      "name": "tmdb-movies.ipynb",
      "provenance": [],
      "collapsed_sections": []
    },
    "kernelspec": {
      "name": "python3",
      "display_name": "Python 3"
    },
    "language_info": {
      "name": "python"
    }
  },
  "cells": [
    {
      "cell_type": "markdown",
      "source": [
        "## This data set contains information about 10,000 movies collected from The Movie Database (TMDb), including user ratings and revenue.\n",
        "1. Certain columns, like ‘cast’\n",
        "and ‘genres’, contain multiple\n",
        "values separated by pipe (|)\n",
        "characters.\n",
        "2. There are some odd characters\n",
        "in the ‘cast’ column. Don’t worry\n",
        "about cleaning them. You can\n",
        "leave them as is.\n",
        "3. The final two columns ending\n",
        "with “_adj” show the budget and\n",
        "revenue of the associated movie\n",
        "in terms of 2010 dollars,\n",
        "accounting for inflation over\n",
        "time.\n",
        "\n"
      ],
      "metadata": {
        "id": "TQv50VRoLlbb"
      }
    },
    {
      "cell_type": "code",
      "execution_count": 2,
      "metadata": {
        "id": "0rEIW7g7gfn6"
      },
      "outputs": [],
      "source": [
        "#imorting libraries\n",
        "import pandas as pd\n",
        "import numpy as np\n",
        "import matplotlib.pyplot as plt\n",
        "%matplotlib inline\n",
        "import seaborn as sns"
      ]
    },
    {
      "cell_type": "markdown",
      "source": [
        "## STEP ONE: ASKING QUESTIONS\n",
        "Q1. How much has the rating improved over the years\n",
        "\n",
        "Q2. Visualize the popularity of the movies over the years\n",
        "\n",
        "Q3. What level of popularity receives the highest revenue?\n",
        "\n",
        "Q4. What level of runtime associated with the highest voting score?\n",
        "\n",
        "Q5. Who are the top 5 cast memebers with highest movie voting (check only first 200 top voted movies)?\n",
        "\n",
        "Q6. Which genres are most popular\n",
        "\n",
        "Q7: What are the top 5 movies with the highest profit\n",
        "\n",
        "\n",
        "\n",
        "\n"
      ],
      "metadata": {
        "id": "j7pCP9l5PMBq"
      }
    },
    {
      "cell_type": "markdown",
      "source": [
        "## STEP TWO: DATA WRANGLING -INSPECTING THE DATASET\n",
        "In this section we will do the following:\n",
        "\n",
        "1. Drop unecessary columns\n",
        "2. Check for missing data\n",
        "3. fill in missing data\n",
        "4. Check for duplicates\n",
        "4. Ensure correct datatype of the column"
      ],
      "metadata": {
        "id": "I05GeYpxMnnZ"
      }
    },
    {
      "cell_type": "code",
      "source": [
        "#reading data from my account on github and storing it in a data frame\n",
        "df = pd.read_csv(\"https://raw.githubusercontent.com/code-hack-dot-com/investingating-a-dataset/3ea1d0a036fa0862525a1d2774724c5506bbe643/tmdb-movies.csv\")\n",
        "df.head()"
      ],
      "metadata": {
        "colab": {
          "base_uri": "https://localhost:8080/",
          "height": 699
        },
        "id": "Y8e0_WsNpZRf",
        "outputId": "8892e37f-82c0-491a-af5e-b8af36f1ca4e"
      },
      "execution_count": 3,
      "outputs": [
        {
          "output_type": "execute_result",
          "data": {
            "text/plain": [
              "       id    imdb_id  popularity     budget     revenue  \\\n",
              "0  135397  tt0369610   32.985763  150000000  1513528810   \n",
              "1   76341  tt1392190   28.419936  150000000   378436354   \n",
              "2  262500  tt2908446   13.112507  110000000   295238201   \n",
              "3  140607  tt2488496   11.173104  200000000  2068178225   \n",
              "4  168259  tt2820852    9.335014  190000000  1506249360   \n",
              "\n",
              "                 original_title  \\\n",
              "0                Jurassic World   \n",
              "1            Mad Max: Fury Road   \n",
              "2                     Insurgent   \n",
              "3  Star Wars: The Force Awakens   \n",
              "4                     Furious 7   \n",
              "\n",
              "                                                cast  \\\n",
              "0  Chris Pratt|Bryce Dallas Howard|Irrfan Khan|Vi...   \n",
              "1  Tom Hardy|Charlize Theron|Hugh Keays-Byrne|Nic...   \n",
              "2  Shailene Woodley|Theo James|Kate Winslet|Ansel...   \n",
              "3  Harrison Ford|Mark Hamill|Carrie Fisher|Adam D...   \n",
              "4  Vin Diesel|Paul Walker|Jason Statham|Michelle ...   \n",
              "\n",
              "                                            homepage          director  \\\n",
              "0                      http://www.jurassicworld.com/   Colin Trevorrow   \n",
              "1                        http://www.madmaxmovie.com/     George Miller   \n",
              "2     http://www.thedivergentseries.movie/#insurgent  Robert Schwentke   \n",
              "3  http://www.starwars.com/films/star-wars-episod...       J.J. Abrams   \n",
              "4                           http://www.furious7.com/         James Wan   \n",
              "\n",
              "                         tagline  ...  \\\n",
              "0              The park is open.  ...   \n",
              "1             What a Lovely Day.  ...   \n",
              "2     One Choice Can Destroy You  ...   \n",
              "3  Every generation has a story.  ...   \n",
              "4            Vengeance Hits Home  ...   \n",
              "\n",
              "                                            overview runtime  \\\n",
              "0  Twenty-two years after the events of Jurassic ...     124   \n",
              "1  An apocalyptic story set in the furthest reach...     120   \n",
              "2  Beatrice Prior must confront her inner demons ...     119   \n",
              "3  Thirty years after defeating the Galactic Empi...     136   \n",
              "4  Deckard Shaw seeks revenge against Dominic Tor...     137   \n",
              "\n",
              "                                      genres  \\\n",
              "0  Action|Adventure|Science Fiction|Thriller   \n",
              "1  Action|Adventure|Science Fiction|Thriller   \n",
              "2         Adventure|Science Fiction|Thriller   \n",
              "3   Action|Adventure|Science Fiction|Fantasy   \n",
              "4                      Action|Crime|Thriller   \n",
              "\n",
              "                                production_companies release_date vote_count  \\\n",
              "0  Universal Studios|Amblin Entertainment|Legenda...       6/9/15       5562   \n",
              "1  Village Roadshow Pictures|Kennedy Miller Produ...      5/13/15       6185   \n",
              "2  Summit Entertainment|Mandeville Films|Red Wago...      3/18/15       2480   \n",
              "3          Lucasfilm|Truenorth Productions|Bad Robot     12/15/15       5292   \n",
              "4  Universal Pictures|Original Film|Media Rights ...       4/1/15       2947   \n",
              "\n",
              "   vote_average  release_year    budget_adj   revenue_adj  \n",
              "0           6.5          2015  1.379999e+08  1.392446e+09  \n",
              "1           7.1          2015  1.379999e+08  3.481613e+08  \n",
              "2           6.3          2015  1.012000e+08  2.716190e+08  \n",
              "3           7.5          2015  1.839999e+08  1.902723e+09  \n",
              "4           7.3          2015  1.747999e+08  1.385749e+09  \n",
              "\n",
              "[5 rows x 21 columns]"
            ],
            "text/html": [
              "\n",
              "  <div id=\"df-76aa5e29-e426-4073-af53-10df7da6c9cb\">\n",
              "    <div class=\"colab-df-container\">\n",
              "      <div>\n",
              "<style scoped>\n",
              "    .dataframe tbody tr th:only-of-type {\n",
              "        vertical-align: middle;\n",
              "    }\n",
              "\n",
              "    .dataframe tbody tr th {\n",
              "        vertical-align: top;\n",
              "    }\n",
              "\n",
              "    .dataframe thead th {\n",
              "        text-align: right;\n",
              "    }\n",
              "</style>\n",
              "<table border=\"1\" class=\"dataframe\">\n",
              "  <thead>\n",
              "    <tr style=\"text-align: right;\">\n",
              "      <th></th>\n",
              "      <th>id</th>\n",
              "      <th>imdb_id</th>\n",
              "      <th>popularity</th>\n",
              "      <th>budget</th>\n",
              "      <th>revenue</th>\n",
              "      <th>original_title</th>\n",
              "      <th>cast</th>\n",
              "      <th>homepage</th>\n",
              "      <th>director</th>\n",
              "      <th>tagline</th>\n",
              "      <th>...</th>\n",
              "      <th>overview</th>\n",
              "      <th>runtime</th>\n",
              "      <th>genres</th>\n",
              "      <th>production_companies</th>\n",
              "      <th>release_date</th>\n",
              "      <th>vote_count</th>\n",
              "      <th>vote_average</th>\n",
              "      <th>release_year</th>\n",
              "      <th>budget_adj</th>\n",
              "      <th>revenue_adj</th>\n",
              "    </tr>\n",
              "  </thead>\n",
              "  <tbody>\n",
              "    <tr>\n",
              "      <th>0</th>\n",
              "      <td>135397</td>\n",
              "      <td>tt0369610</td>\n",
              "      <td>32.985763</td>\n",
              "      <td>150000000</td>\n",
              "      <td>1513528810</td>\n",
              "      <td>Jurassic World</td>\n",
              "      <td>Chris Pratt|Bryce Dallas Howard|Irrfan Khan|Vi...</td>\n",
              "      <td>http://www.jurassicworld.com/</td>\n",
              "      <td>Colin Trevorrow</td>\n",
              "      <td>The park is open.</td>\n",
              "      <td>...</td>\n",
              "      <td>Twenty-two years after the events of Jurassic ...</td>\n",
              "      <td>124</td>\n",
              "      <td>Action|Adventure|Science Fiction|Thriller</td>\n",
              "      <td>Universal Studios|Amblin Entertainment|Legenda...</td>\n",
              "      <td>6/9/15</td>\n",
              "      <td>5562</td>\n",
              "      <td>6.5</td>\n",
              "      <td>2015</td>\n",
              "      <td>1.379999e+08</td>\n",
              "      <td>1.392446e+09</td>\n",
              "    </tr>\n",
              "    <tr>\n",
              "      <th>1</th>\n",
              "      <td>76341</td>\n",
              "      <td>tt1392190</td>\n",
              "      <td>28.419936</td>\n",
              "      <td>150000000</td>\n",
              "      <td>378436354</td>\n",
              "      <td>Mad Max: Fury Road</td>\n",
              "      <td>Tom Hardy|Charlize Theron|Hugh Keays-Byrne|Nic...</td>\n",
              "      <td>http://www.madmaxmovie.com/</td>\n",
              "      <td>George Miller</td>\n",
              "      <td>What a Lovely Day.</td>\n",
              "      <td>...</td>\n",
              "      <td>An apocalyptic story set in the furthest reach...</td>\n",
              "      <td>120</td>\n",
              "      <td>Action|Adventure|Science Fiction|Thriller</td>\n",
              "      <td>Village Roadshow Pictures|Kennedy Miller Produ...</td>\n",
              "      <td>5/13/15</td>\n",
              "      <td>6185</td>\n",
              "      <td>7.1</td>\n",
              "      <td>2015</td>\n",
              "      <td>1.379999e+08</td>\n",
              "      <td>3.481613e+08</td>\n",
              "    </tr>\n",
              "    <tr>\n",
              "      <th>2</th>\n",
              "      <td>262500</td>\n",
              "      <td>tt2908446</td>\n",
              "      <td>13.112507</td>\n",
              "      <td>110000000</td>\n",
              "      <td>295238201</td>\n",
              "      <td>Insurgent</td>\n",
              "      <td>Shailene Woodley|Theo James|Kate Winslet|Ansel...</td>\n",
              "      <td>http://www.thedivergentseries.movie/#insurgent</td>\n",
              "      <td>Robert Schwentke</td>\n",
              "      <td>One Choice Can Destroy You</td>\n",
              "      <td>...</td>\n",
              "      <td>Beatrice Prior must confront her inner demons ...</td>\n",
              "      <td>119</td>\n",
              "      <td>Adventure|Science Fiction|Thriller</td>\n",
              "      <td>Summit Entertainment|Mandeville Films|Red Wago...</td>\n",
              "      <td>3/18/15</td>\n",
              "      <td>2480</td>\n",
              "      <td>6.3</td>\n",
              "      <td>2015</td>\n",
              "      <td>1.012000e+08</td>\n",
              "      <td>2.716190e+08</td>\n",
              "    </tr>\n",
              "    <tr>\n",
              "      <th>3</th>\n",
              "      <td>140607</td>\n",
              "      <td>tt2488496</td>\n",
              "      <td>11.173104</td>\n",
              "      <td>200000000</td>\n",
              "      <td>2068178225</td>\n",
              "      <td>Star Wars: The Force Awakens</td>\n",
              "      <td>Harrison Ford|Mark Hamill|Carrie Fisher|Adam D...</td>\n",
              "      <td>http://www.starwars.com/films/star-wars-episod...</td>\n",
              "      <td>J.J. Abrams</td>\n",
              "      <td>Every generation has a story.</td>\n",
              "      <td>...</td>\n",
              "      <td>Thirty years after defeating the Galactic Empi...</td>\n",
              "      <td>136</td>\n",
              "      <td>Action|Adventure|Science Fiction|Fantasy</td>\n",
              "      <td>Lucasfilm|Truenorth Productions|Bad Robot</td>\n",
              "      <td>12/15/15</td>\n",
              "      <td>5292</td>\n",
              "      <td>7.5</td>\n",
              "      <td>2015</td>\n",
              "      <td>1.839999e+08</td>\n",
              "      <td>1.902723e+09</td>\n",
              "    </tr>\n",
              "    <tr>\n",
              "      <th>4</th>\n",
              "      <td>168259</td>\n",
              "      <td>tt2820852</td>\n",
              "      <td>9.335014</td>\n",
              "      <td>190000000</td>\n",
              "      <td>1506249360</td>\n",
              "      <td>Furious 7</td>\n",
              "      <td>Vin Diesel|Paul Walker|Jason Statham|Michelle ...</td>\n",
              "      <td>http://www.furious7.com/</td>\n",
              "      <td>James Wan</td>\n",
              "      <td>Vengeance Hits Home</td>\n",
              "      <td>...</td>\n",
              "      <td>Deckard Shaw seeks revenge against Dominic Tor...</td>\n",
              "      <td>137</td>\n",
              "      <td>Action|Crime|Thriller</td>\n",
              "      <td>Universal Pictures|Original Film|Media Rights ...</td>\n",
              "      <td>4/1/15</td>\n",
              "      <td>2947</td>\n",
              "      <td>7.3</td>\n",
              "      <td>2015</td>\n",
              "      <td>1.747999e+08</td>\n",
              "      <td>1.385749e+09</td>\n",
              "    </tr>\n",
              "  </tbody>\n",
              "</table>\n",
              "<p>5 rows × 21 columns</p>\n",
              "</div>\n",
              "      <button class=\"colab-df-convert\" onclick=\"convertToInteractive('df-76aa5e29-e426-4073-af53-10df7da6c9cb')\"\n",
              "              title=\"Convert this dataframe to an interactive table.\"\n",
              "              style=\"display:none;\">\n",
              "        \n",
              "  <svg xmlns=\"http://www.w3.org/2000/svg\" height=\"24px\"viewBox=\"0 0 24 24\"\n",
              "       width=\"24px\">\n",
              "    <path d=\"M0 0h24v24H0V0z\" fill=\"none\"/>\n",
              "    <path d=\"M18.56 5.44l.94 2.06.94-2.06 2.06-.94-2.06-.94-.94-2.06-.94 2.06-2.06.94zm-11 1L8.5 8.5l.94-2.06 2.06-.94-2.06-.94L8.5 2.5l-.94 2.06-2.06.94zm10 10l.94 2.06.94-2.06 2.06-.94-2.06-.94-.94-2.06-.94 2.06-2.06.94z\"/><path d=\"M17.41 7.96l-1.37-1.37c-.4-.4-.92-.59-1.43-.59-.52 0-1.04.2-1.43.59L10.3 9.45l-7.72 7.72c-.78.78-.78 2.05 0 2.83L4 21.41c.39.39.9.59 1.41.59.51 0 1.02-.2 1.41-.59l7.78-7.78 2.81-2.81c.8-.78.8-2.07 0-2.86zM5.41 20L4 18.59l7.72-7.72 1.47 1.35L5.41 20z\"/>\n",
              "  </svg>\n",
              "      </button>\n",
              "      \n",
              "  <style>\n",
              "    .colab-df-container {\n",
              "      display:flex;\n",
              "      flex-wrap:wrap;\n",
              "      gap: 12px;\n",
              "    }\n",
              "\n",
              "    .colab-df-convert {\n",
              "      background-color: #E8F0FE;\n",
              "      border: none;\n",
              "      border-radius: 50%;\n",
              "      cursor: pointer;\n",
              "      display: none;\n",
              "      fill: #1967D2;\n",
              "      height: 32px;\n",
              "      padding: 0 0 0 0;\n",
              "      width: 32px;\n",
              "    }\n",
              "\n",
              "    .colab-df-convert:hover {\n",
              "      background-color: #E2EBFA;\n",
              "      box-shadow: 0px 1px 2px rgba(60, 64, 67, 0.3), 0px 1px 3px 1px rgba(60, 64, 67, 0.15);\n",
              "      fill: #174EA6;\n",
              "    }\n",
              "\n",
              "    [theme=dark] .colab-df-convert {\n",
              "      background-color: #3B4455;\n",
              "      fill: #D2E3FC;\n",
              "    }\n",
              "\n",
              "    [theme=dark] .colab-df-convert:hover {\n",
              "      background-color: #434B5C;\n",
              "      box-shadow: 0px 1px 3px 1px rgba(0, 0, 0, 0.15);\n",
              "      filter: drop-shadow(0px 1px 2px rgba(0, 0, 0, 0.3));\n",
              "      fill: #FFFFFF;\n",
              "    }\n",
              "  </style>\n",
              "\n",
              "      <script>\n",
              "        const buttonEl =\n",
              "          document.querySelector('#df-76aa5e29-e426-4073-af53-10df7da6c9cb button.colab-df-convert');\n",
              "        buttonEl.style.display =\n",
              "          google.colab.kernel.accessAllowed ? 'block' : 'none';\n",
              "\n",
              "        async function convertToInteractive(key) {\n",
              "          const element = document.querySelector('#df-76aa5e29-e426-4073-af53-10df7da6c9cb');\n",
              "          const dataTable =\n",
              "            await google.colab.kernel.invokeFunction('convertToInteractive',\n",
              "                                                     [key], {});\n",
              "          if (!dataTable) return;\n",
              "\n",
              "          const docLinkHtml = 'Like what you see? Visit the ' +\n",
              "            '<a target=\"_blank\" href=https://colab.research.google.com/notebooks/data_table.ipynb>data table notebook</a>'\n",
              "            + ' to learn more about interactive tables.';\n",
              "          element.innerHTML = '';\n",
              "          dataTable['output_type'] = 'display_data';\n",
              "          await google.colab.output.renderOutput(dataTable, element);\n",
              "          const docLink = document.createElement('div');\n",
              "          docLink.innerHTML = docLinkHtml;\n",
              "          element.appendChild(docLink);\n",
              "        }\n",
              "      </script>\n",
              "    </div>\n",
              "  </div>\n",
              "  "
            ]
          },
          "metadata": {},
          "execution_count": 3
        }
      ]
    },
    {
      "cell_type": "markdown",
      "source": [
        "### DROP UNECCESSARY COLUMNS\n",
        "\n",
        "    homepage, tagline, overview, id, imdb_id, and vote_count seem like columns without any effect on the data. So lets drop them"
      ],
      "metadata": {
        "id": "pjfRrJpe-goP"
      }
    },
    {
      "cell_type": "code",
      "source": [
        "#Lets frop these columns \n",
        "df.drop([\"homepage\", \"tagline\", \"overview\", \"id\", \"imdb_id\", \"vote_count\", \"keywords\", \"release_date\"], axis  = 1, inplace= True)"
      ],
      "metadata": {
        "id": "VdoU0UU2f8pP"
      },
      "execution_count": 4,
      "outputs": []
    },
    {
      "cell_type": "code",
      "source": [
        "#lets check the information of the data\n",
        "df.info()"
      ],
      "metadata": {
        "colab": {
          "base_uri": "https://localhost:8080/"
        },
        "id": "EsKDHt3JLfrq",
        "outputId": "1b329ded-f5af-4f27-d902-978059150042"
      },
      "execution_count": 5,
      "outputs": [
        {
          "output_type": "stream",
          "name": "stdout",
          "text": [
            "<class 'pandas.core.frame.DataFrame'>\n",
            "RangeIndex: 10866 entries, 0 to 10865\n",
            "Data columns (total 13 columns):\n",
            " #   Column                Non-Null Count  Dtype  \n",
            "---  ------                --------------  -----  \n",
            " 0   popularity            10866 non-null  float64\n",
            " 1   budget                10866 non-null  int64  \n",
            " 2   revenue               10866 non-null  int64  \n",
            " 3   original_title        10866 non-null  object \n",
            " 4   cast                  10790 non-null  object \n",
            " 5   director              10822 non-null  object \n",
            " 6   runtime               10866 non-null  int64  \n",
            " 7   genres                10843 non-null  object \n",
            " 8   production_companies  9836 non-null   object \n",
            " 9   vote_average          10866 non-null  float64\n",
            " 10  release_year          10866 non-null  int64  \n",
            " 11  budget_adj            10866 non-null  float64\n",
            " 12  revenue_adj           10866 non-null  float64\n",
            "dtypes: float64(4), int64(4), object(5)\n",
            "memory usage: 1.1+ MB\n"
          ]
        }
      ]
    },
    {
      "cell_type": "markdown",
      "source": [
        "#### Popularity to revenue are up to date. Since we cant fill in the empty cast, lets drop it"
      ],
      "metadata": {
        "id": "PoDoymiwvny-"
      }
    },
    {
      "cell_type": "code",
      "source": [
        "# process of dropping empty values in cast columns\n",
        "df.dropna(subset = [\"cast\"], inplace = True)"
      ],
      "metadata": {
        "id": "b8k-nkk2gpBK"
      },
      "execution_count": 6,
      "outputs": []
    },
    {
      "cell_type": "code",
      "source": [
        "\n",
        "df[\"cast\"].isnull().sum()"
      ],
      "metadata": {
        "colab": {
          "base_uri": "https://localhost:8080/"
        },
        "id": "1J52x6hSvMAf",
        "outputId": "d3931640-430a-4256-dcc8-be716195c702"
      },
      "execution_count": 7,
      "outputs": [
        {
          "output_type": "execute_result",
          "data": {
            "text/plain": [
              "0"
            ]
          },
          "metadata": {},
          "execution_count": 7
        }
      ]
    },
    {
      "cell_type": "markdown",
      "source": [
        "#### finding the total number of empty columns in \"cast\" column, this turned out to be 0 since we have dropped all the null values"
      ],
      "metadata": {
        "id": "aoLA0eCvr409"
      }
    },
    {
      "cell_type": "code",
      "source": [
        "df.info()"
      ],
      "metadata": {
        "colab": {
          "base_uri": "https://localhost:8080/"
        },
        "id": "m_H93Nyovbfk",
        "outputId": "cb122da5-5369-481e-b2ad-52b155ee9719"
      },
      "execution_count": 9,
      "outputs": [
        {
          "output_type": "stream",
          "name": "stdout",
          "text": [
            "<class 'pandas.core.frame.DataFrame'>\n",
            "Int64Index: 10790 entries, 0 to 10865\n",
            "Data columns (total 13 columns):\n",
            " #   Column                Non-Null Count  Dtype  \n",
            "---  ------                --------------  -----  \n",
            " 0   popularity            10790 non-null  float64\n",
            " 1   budget                10790 non-null  int64  \n",
            " 2   revenue               10790 non-null  int64  \n",
            " 3   original_title        10790 non-null  object \n",
            " 4   cast                  10790 non-null  object \n",
            " 5   director              10752 non-null  object \n",
            " 6   runtime               10790 non-null  int64  \n",
            " 7   genres                10768 non-null  object \n",
            " 8   production_companies  9800 non-null   object \n",
            " 9   vote_average          10790 non-null  float64\n",
            " 10  release_year          10790 non-null  int64  \n",
            " 11  budget_adj            10790 non-null  float64\n",
            " 12  revenue_adj           10790 non-null  float64\n",
            "dtypes: float64(4), int64(4), object(5)\n",
            "memory usage: 1.2+ MB\n"
          ]
        }
      ]
    },
    {
      "cell_type": "markdown",
      "source": [
        "#### When we check the infor of the data above, we can see that the cast value is now 10790"
      ],
      "metadata": {
        "id": "wfQQB1shsCPi"
      }
    },
    {
      "cell_type": "markdown",
      "source": [
        "#### Now that cast is done, lets find the frequency of director and fill the empty cells with the highest frequency.\n",
        "\n",
        "#### After analysis, we see that the number of null valus for directors is too high so we just replace it with \"Missing\" category. thee number of \"missing\" directors is quite high so it will be unrealistic to fill it with the highest frequecy"
      ],
      "metadata": {
        "id": "VZ3xgjLuzbXE"
      }
    },
    {
      "cell_type": "code",
      "source": [
        "df[\"director\"].fillna(\"Missing\", inplace = True)\n",
        "df[\"director\"].value_counts()"
      ],
      "metadata": {
        "colab": {
          "base_uri": "https://localhost:8080/"
        },
        "id": "7eN9GZAVzYwI",
        "outputId": "f9ad04c0-3eb2-4df5-859a-edba3318680a"
      },
      "execution_count": 10,
      "outputs": [
        {
          "output_type": "execute_result",
          "data": {
            "text/plain": [
              "Woody Allen                45\n",
              "Missing                    38\n",
              "Clint Eastwood             34\n",
              "Steven Spielberg           29\n",
              "Martin Scorsese            28\n",
              "                           ..\n",
              "Yoshihiro Nishimura         1\n",
              "Jon Poll                    1\n",
              "Jean-StÃ©phane Sauvaire     1\n",
              "Gianni Di Gregorio          1\n",
              "Harold P. Warren            1\n",
              "Name: director, Length: 5029, dtype: int64"
            ]
          },
          "metadata": {},
          "execution_count": 10
        }
      ]
    },
    {
      "cell_type": "code",
      "source": [
        "# from doing this, we can see that \"director\" has been accounted for\n",
        "df.info()"
      ],
      "metadata": {
        "colab": {
          "base_uri": "https://localhost:8080/"
        },
        "id": "3d8hct5l-i6k",
        "outputId": "c896a4a1-c425-4534-ad9c-8f1978e1df31"
      },
      "execution_count": 11,
      "outputs": [
        {
          "output_type": "stream",
          "name": "stdout",
          "text": [
            "<class 'pandas.core.frame.DataFrame'>\n",
            "Int64Index: 10790 entries, 0 to 10865\n",
            "Data columns (total 13 columns):\n",
            " #   Column                Non-Null Count  Dtype  \n",
            "---  ------                --------------  -----  \n",
            " 0   popularity            10790 non-null  float64\n",
            " 1   budget                10790 non-null  int64  \n",
            " 2   revenue               10790 non-null  int64  \n",
            " 3   original_title        10790 non-null  object \n",
            " 4   cast                  10790 non-null  object \n",
            " 5   director              10790 non-null  object \n",
            " 6   runtime               10790 non-null  int64  \n",
            " 7   genres                10768 non-null  object \n",
            " 8   production_companies  9800 non-null   object \n",
            " 9   vote_average          10790 non-null  float64\n",
            " 10  release_year          10790 non-null  int64  \n",
            " 11  budget_adj            10790 non-null  float64\n",
            " 12  revenue_adj           10790 non-null  float64\n",
            "dtypes: float64(4), int64(4), object(5)\n",
            "memory usage: 1.2+ MB\n"
          ]
        }
      ]
    },
    {
      "cell_type": "markdown",
      "source": [
        "#### Next we deal with genre, since comedy and drama have just one difference in the count, lets just fill half of the missing genre with \"comedy\", and the other half with \"drama\", to maintain the frequency"
      ],
      "metadata": {
        "id": "43Zhsg4F-sC9"
      }
    },
    {
      "cell_type": "code",
      "source": [
        "df[\"genres\"].value_counts()"
      ],
      "metadata": {
        "colab": {
          "base_uri": "https://localhost:8080/"
        },
        "id": "kWp4sjBQBFSh",
        "outputId": "3ee6a99a-a5cb-4272-eb1c-f535c44b88ec"
      },
      "execution_count": 12,
      "outputs": [
        {
          "output_type": "execute_result",
          "data": {
            "text/plain": [
              "Comedy                                     712\n",
              "Drama                                      711\n",
              "Drama|Romance                              289\n",
              "Comedy|Drama                               280\n",
              "Documentary                                278\n",
              "                                          ... \n",
              "Family|Adventure|Animation|Comedy            1\n",
              "Drama|History|Crime                          1\n",
              "Science Fiction|Horror|Action|Thriller       1\n",
              "Action|Thriller|Science Fiction|Mystery      1\n",
              "Mystery|Science Fiction|Thriller|Drama       1\n",
              "Name: genres, Length: 2030, dtype: int64"
            ]
          },
          "metadata": {},
          "execution_count": 12
        }
      ]
    },
    {
      "cell_type": "code",
      "source": [
        "#We have a 22 missing genres\n",
        "df[\"genres\"].isnull().sum()"
      ],
      "metadata": {
        "colab": {
          "base_uri": "https://localhost:8080/"
        },
        "id": "UEQVwrskMLce",
        "outputId": "7d6dfb77-0aaf-421f-b8ac-a10cf10d1afe"
      },
      "execution_count": 13,
      "outputs": [
        {
          "output_type": "execute_result",
          "data": {
            "text/plain": [
              "22"
            ]
          },
          "metadata": {},
          "execution_count": 13
        }
      ]
    },
    {
      "cell_type": "code",
      "source": [
        "empty_genres = df[df['genres'].isnull()].index.tolist()\n",
        "empty_genres"
      ],
      "metadata": {
        "colab": {
          "base_uri": "https://localhost:8080/"
        },
        "id": "25yeCQYJO3VS",
        "outputId": "fcf2d44d-f74a-418a-c81b-bc791abb6d44"
      },
      "execution_count": 15,
      "outputs": [
        {
          "output_type": "execute_result",
          "data": {
            "text/plain": [
              "[424,\n",
              " 997,\n",
              " 1712,\n",
              " 1897,\n",
              " 2370,\n",
              " 2376,\n",
              " 2853,\n",
              " 3279,\n",
              " 4547,\n",
              " 4732,\n",
              " 4797,\n",
              " 4890,\n",
              " 5830,\n",
              " 5934,\n",
              " 6043,\n",
              " 6530,\n",
              " 8234,\n",
              " 8614,\n",
              " 8878,\n",
              " 9307,\n",
              " 9799,\n",
              " 10659]"
            ]
          },
          "metadata": {},
          "execution_count": 15
        }
      ]
    },
    {
      "cell_type": "code",
      "source": [
        "# we have filled 11 empty columns with \"comedy\" and the other 11 with \"Drama\", so no missing data anymore in this column\n",
        "for index, value in enumerate(empty_genres):\n",
        "  if(index < 11):\n",
        "    df[\"genres\"][value] = \"Comedy\"\n",
        "  else:\n",
        "    df[\"genres\"][value] = \"Drama\"\n",
        "\n",
        "df[\"genres\"].value_counts()"
      ],
      "metadata": {
        "colab": {
          "base_uri": "https://localhost:8080/"
        },
        "id": "fmtQL5csPytX",
        "outputId": "d9fb2682-1864-422d-820a-fe09c4eaaeb3"
      },
      "execution_count": 16,
      "outputs": [
        {
          "output_type": "stream",
          "name": "stderr",
          "text": [
            "/usr/local/lib/python3.7/dist-packages/ipykernel_launcher.py:4: SettingWithCopyWarning: \n",
            "A value is trying to be set on a copy of a slice from a DataFrame\n",
            "\n",
            "See the caveats in the documentation: https://pandas.pydata.org/pandas-docs/stable/user_guide/indexing.html#returning-a-view-versus-a-copy\n",
            "  after removing the cwd from sys.path.\n",
            "/usr/local/lib/python3.7/dist-packages/ipykernel_launcher.py:6: SettingWithCopyWarning: \n",
            "A value is trying to be set on a copy of a slice from a DataFrame\n",
            "\n",
            "See the caveats in the documentation: https://pandas.pydata.org/pandas-docs/stable/user_guide/indexing.html#returning-a-view-versus-a-copy\n",
            "  \n"
          ]
        },
        {
          "output_type": "execute_result",
          "data": {
            "text/plain": [
              "Comedy                                     723\n",
              "Drama                                      722\n",
              "Drama|Romance                              289\n",
              "Comedy|Drama                               280\n",
              "Documentary                                278\n",
              "                                          ... \n",
              "Family|Adventure|Animation|Comedy            1\n",
              "Drama|History|Crime                          1\n",
              "Science Fiction|Horror|Action|Thriller       1\n",
              "Action|Thriller|Science Fiction|Mystery      1\n",
              "Mystery|Science Fiction|Thriller|Drama       1\n",
              "Name: genres, Length: 2030, dtype: int64"
            ]
          },
          "metadata": {},
          "execution_count": 16
        }
      ]
    },
    {
      "cell_type": "code",
      "source": [
        "df.info()"
      ],
      "metadata": {
        "colab": {
          "base_uri": "https://localhost:8080/"
        },
        "id": "sMlE-u1EBZYa",
        "outputId": "6acc4bb5-208f-44db-9f3e-39c584be5c61"
      },
      "execution_count": 15,
      "outputs": [
        {
          "output_type": "stream",
          "name": "stdout",
          "text": [
            "<class 'pandas.core.frame.DataFrame'>\n",
            "Int64Index: 10790 entries, 0 to 10865\n",
            "Data columns (total 13 columns):\n",
            " #   Column                Non-Null Count  Dtype  \n",
            "---  ------                --------------  -----  \n",
            " 0   popularity            10790 non-null  float64\n",
            " 1   budget                10790 non-null  int64  \n",
            " 2   revenue               10790 non-null  int64  \n",
            " 3   original_title        10790 non-null  object \n",
            " 4   cast                  10790 non-null  object \n",
            " 5   director              10790 non-null  object \n",
            " 6   runtime               10790 non-null  int64  \n",
            " 7   genres                10790 non-null  object \n",
            " 8   production_companies  9800 non-null   object \n",
            " 9   vote_average          10790 non-null  float64\n",
            " 10  release_year          10790 non-null  int64  \n",
            " 11  budget_adj            10790 non-null  float64\n",
            " 12  revenue_adj           10790 non-null  float64\n",
            "dtypes: float64(4), int64(4), object(5)\n",
            "memory usage: 1.4+ MB\n"
          ]
        }
      ]
    },
    {
      "cell_type": "markdown",
      "source": [
        "#### Info from above shows that genre is accounted for. Next is production companies"
      ],
      "metadata": {
        "id": "KMSAo-QCBlgL"
      }
    },
    {
      "cell_type": "code",
      "source": [
        "df[\"production_companies\"].isnull().sum()"
      ],
      "metadata": {
        "colab": {
          "base_uri": "https://localhost:8080/"
        },
        "id": "UOiqZzceT6FI",
        "outputId": "df32431c-dabe-4e93-af0c-5a1667131f71"
      },
      "execution_count": 17,
      "outputs": [
        {
          "output_type": "execute_result",
          "data": {
            "text/plain": [
              "990"
            ]
          },
          "metadata": {},
          "execution_count": 17
        }
      ]
    },
    {
      "cell_type": "markdown",
      "source": [
        "#### The number of missing \"production companies\" is quite high, we can replace it with \"missing\", but if we do this, we may not be able to give exact insight if the production company affects the number of ratings, and we may not be able to know the exact production companies, but lets try that and see"
      ],
      "metadata": {
        "id": "WTn-6ZPJu4gD"
      }
    },
    {
      "cell_type": "code",
      "source": [
        "df[\"production_companies\"].fillna(\"Missing\", inplace =True)"
      ],
      "metadata": {
        "id": "aFUz6IbWS4jQ"
      },
      "execution_count": 20,
      "outputs": []
    },
    {
      "cell_type": "code",
      "source": [
        "df.info()"
      ],
      "metadata": {
        "colab": {
          "base_uri": "https://localhost:8080/"
        },
        "id": "wuLPnrj0XD1H",
        "outputId": "cc7cc44b-0245-49ef-a584-5a9840751747"
      },
      "execution_count": 21,
      "outputs": [
        {
          "output_type": "stream",
          "name": "stdout",
          "text": [
            "<class 'pandas.core.frame.DataFrame'>\n",
            "Int64Index: 10790 entries, 0 to 10865\n",
            "Data columns (total 13 columns):\n",
            " #   Column                Non-Null Count  Dtype  \n",
            "---  ------                --------------  -----  \n",
            " 0   popularity            10790 non-null  float64\n",
            " 1   budget                10790 non-null  int64  \n",
            " 2   revenue               10790 non-null  int64  \n",
            " 3   original_title        10790 non-null  object \n",
            " 4   cast                  10790 non-null  object \n",
            " 5   director              10790 non-null  object \n",
            " 6   runtime               10790 non-null  int64  \n",
            " 7   genres                10790 non-null  object \n",
            " 8   production_companies  10790 non-null  object \n",
            " 9   vote_average          10790 non-null  float64\n",
            " 10  release_year          10790 non-null  int64  \n",
            " 11  budget_adj            10790 non-null  float64\n",
            " 12  revenue_adj           10790 non-null  float64\n",
            "dtypes: float64(4), int64(4), object(5)\n",
            "memory usage: 1.4+ MB\n"
          ]
        }
      ]
    },
    {
      "cell_type": "markdown",
      "source": [
        "#### We are done dealing with missing values, next lets drop duplicates, we have just one duplicated column so lets drop it."
      ],
      "metadata": {
        "id": "dQmtBdjgXedE"
      }
    },
    {
      "cell_type": "code",
      "source": [
        "df.duplicated().value_counts()"
      ],
      "metadata": {
        "colab": {
          "base_uri": "https://localhost:8080/"
        },
        "id": "zD6nQFyWgTyw",
        "outputId": "b9990b32-5e03-4419-de9b-cc25f04845d8"
      },
      "execution_count": 22,
      "outputs": [
        {
          "output_type": "execute_result",
          "data": {
            "text/plain": [
              "False    10789\n",
              "True         1\n",
              "dtype: int64"
            ]
          },
          "metadata": {},
          "execution_count": 22
        }
      ]
    },
    {
      "cell_type": "code",
      "source": [
        "df.drop_duplicates(inplace = True)"
      ],
      "metadata": {
        "id": "C-AZS9qjDsQx"
      },
      "execution_count": 23,
      "outputs": []
    },
    {
      "cell_type": "code",
      "source": [
        "#Now we have no duplicated column\n",
        "df.duplicated().value_counts()"
      ],
      "metadata": {
        "colab": {
          "base_uri": "https://localhost:8080/"
        },
        "id": "GIaEecZQEjcP",
        "outputId": "8f329043-37ba-4ede-83d9-9b82513dfc2d"
      },
      "execution_count": 25,
      "outputs": [
        {
          "output_type": "execute_result",
          "data": {
            "text/plain": [
              "False    10789\n",
              "dtype: int64"
            ]
          },
          "metadata": {},
          "execution_count": 25
        }
      ]
    },
    {
      "cell_type": "markdown",
      "source": [
        "#### Finally, lets deal with the datatype\n",
        "    Just the \"release year\" is in the wrong datatype so lets change it to \"datetime\" datatype"
      ],
      "metadata": {
        "id": "ODOhsEWnIzfS"
      }
    },
    {
      "cell_type": "code",
      "source": [
        "# changing the datatype from int to datetime\n",
        "df[\"release_year\"] = pd.to_datetime(df[\"release_year\"], format = \"%Y\")\n",
        "df[\"release_year\"]"
      ],
      "metadata": {
        "colab": {
          "base_uri": "https://localhost:8080/"
        },
        "id": "W-mktj5XIy7U",
        "outputId": "e3bd0444-e870-406b-9ca9-950ff0bc695e"
      },
      "execution_count": 26,
      "outputs": [
        {
          "output_type": "execute_result",
          "data": {
            "text/plain": [
              "0       2015-01-01\n",
              "1       2015-01-01\n",
              "2       2015-01-01\n",
              "3       2015-01-01\n",
              "4       2015-01-01\n",
              "           ...    \n",
              "10861   1966-01-01\n",
              "10862   1966-01-01\n",
              "10863   1966-01-01\n",
              "10864   1966-01-01\n",
              "10865   1966-01-01\n",
              "Name: release_year, Length: 10789, dtype: datetime64[ns]"
            ]
          },
          "metadata": {},
          "execution_count": 26
        }
      ]
    },
    {
      "cell_type": "markdown",
      "source": [
        "# The cleaning is done! Lets save the clean data in a new file"
      ],
      "metadata": {
        "id": "6LJd3CoJFVbv"
      }
    },
    {
      "cell_type": "code",
      "source": [
        "#saving to a new file\n",
        "df.to_csv(\"tmdb_movies_V2.csv\")"
      ],
      "metadata": {
        "id": "TmqVEyOKXt-F"
      },
      "execution_count": 27,
      "outputs": []
    },
    {
      "cell_type": "markdown",
      "source": [
        "## STEP 3: EXPLORATORY DATA ANALYSIS"
      ],
      "metadata": {
        "id": "mOhL2RwkQwzG"
      }
    },
    {
      "cell_type": "markdown",
      "source": [
        "### First of all, lets see the description of the dataset"
      ],
      "metadata": {
        "id": "txmhGvl6r0zf"
      }
    },
    {
      "cell_type": "code",
      "source": [
        "#lets try to understand the data overall\n",
        "df.describe()"
      ],
      "metadata": {
        "id": "ZlfQdNHYjdy1",
        "colab": {
          "base_uri": "https://localhost:8080/",
          "height": 300
        },
        "outputId": "c8770087-3e1c-4853-c471-46d7d4d2486b"
      },
      "execution_count": 28,
      "outputs": [
        {
          "output_type": "execute_result",
          "data": {
            "text/plain": [
              "         popularity        budget       revenue       runtime  vote_average  \\\n",
              "count  10789.000000  1.078900e+04  1.078900e+04  10789.000000  10789.000000   \n",
              "mean       0.649943  1.472523e+07  4.010415e+07    102.346835      5.968607   \n",
              "std        1.002792  3.099937e+07  1.173725e+08     30.998457      0.932325   \n",
              "min        0.000065  0.000000e+00  0.000000e+00      0.000000      1.500000   \n",
              "25%        0.209655  0.000000e+00  0.000000e+00     90.000000      5.400000   \n",
              "50%        0.385492  0.000000e+00  0.000000e+00     99.000000      6.000000   \n",
              "75%        0.718275  1.600000e+07  2.463747e+07    112.000000      6.600000   \n",
              "max       32.985763  4.250000e+08  2.781506e+09    900.000000      9.200000   \n",
              "\n",
              "         budget_adj   revenue_adj  \n",
              "count  1.078900e+04  1.078900e+04  \n",
              "mean   1.767095e+07  5.172768e+07  \n",
              "std    3.439754e+07  1.450832e+08  \n",
              "min    0.000000e+00  0.000000e+00  \n",
              "25%    0.000000e+00  0.000000e+00  \n",
              "50%    0.000000e+00  0.000000e+00  \n",
              "75%    2.103337e+07  3.411637e+07  \n",
              "max    4.250000e+08  2.827124e+09  "
            ],
            "text/html": [
              "\n",
              "  <div id=\"df-6022d19a-0d77-4722-aef1-6772ee47c18a\">\n",
              "    <div class=\"colab-df-container\">\n",
              "      <div>\n",
              "<style scoped>\n",
              "    .dataframe tbody tr th:only-of-type {\n",
              "        vertical-align: middle;\n",
              "    }\n",
              "\n",
              "    .dataframe tbody tr th {\n",
              "        vertical-align: top;\n",
              "    }\n",
              "\n",
              "    .dataframe thead th {\n",
              "        text-align: right;\n",
              "    }\n",
              "</style>\n",
              "<table border=\"1\" class=\"dataframe\">\n",
              "  <thead>\n",
              "    <tr style=\"text-align: right;\">\n",
              "      <th></th>\n",
              "      <th>popularity</th>\n",
              "      <th>budget</th>\n",
              "      <th>revenue</th>\n",
              "      <th>runtime</th>\n",
              "      <th>vote_average</th>\n",
              "      <th>budget_adj</th>\n",
              "      <th>revenue_adj</th>\n",
              "    </tr>\n",
              "  </thead>\n",
              "  <tbody>\n",
              "    <tr>\n",
              "      <th>count</th>\n",
              "      <td>10789.000000</td>\n",
              "      <td>1.078900e+04</td>\n",
              "      <td>1.078900e+04</td>\n",
              "      <td>10789.000000</td>\n",
              "      <td>10789.000000</td>\n",
              "      <td>1.078900e+04</td>\n",
              "      <td>1.078900e+04</td>\n",
              "    </tr>\n",
              "    <tr>\n",
              "      <th>mean</th>\n",
              "      <td>0.649943</td>\n",
              "      <td>1.472523e+07</td>\n",
              "      <td>4.010415e+07</td>\n",
              "      <td>102.346835</td>\n",
              "      <td>5.968607</td>\n",
              "      <td>1.767095e+07</td>\n",
              "      <td>5.172768e+07</td>\n",
              "    </tr>\n",
              "    <tr>\n",
              "      <th>std</th>\n",
              "      <td>1.002792</td>\n",
              "      <td>3.099937e+07</td>\n",
              "      <td>1.173725e+08</td>\n",
              "      <td>30.998457</td>\n",
              "      <td>0.932325</td>\n",
              "      <td>3.439754e+07</td>\n",
              "      <td>1.450832e+08</td>\n",
              "    </tr>\n",
              "    <tr>\n",
              "      <th>min</th>\n",
              "      <td>0.000065</td>\n",
              "      <td>0.000000e+00</td>\n",
              "      <td>0.000000e+00</td>\n",
              "      <td>0.000000</td>\n",
              "      <td>1.500000</td>\n",
              "      <td>0.000000e+00</td>\n",
              "      <td>0.000000e+00</td>\n",
              "    </tr>\n",
              "    <tr>\n",
              "      <th>25%</th>\n",
              "      <td>0.209655</td>\n",
              "      <td>0.000000e+00</td>\n",
              "      <td>0.000000e+00</td>\n",
              "      <td>90.000000</td>\n",
              "      <td>5.400000</td>\n",
              "      <td>0.000000e+00</td>\n",
              "      <td>0.000000e+00</td>\n",
              "    </tr>\n",
              "    <tr>\n",
              "      <th>50%</th>\n",
              "      <td>0.385492</td>\n",
              "      <td>0.000000e+00</td>\n",
              "      <td>0.000000e+00</td>\n",
              "      <td>99.000000</td>\n",
              "      <td>6.000000</td>\n",
              "      <td>0.000000e+00</td>\n",
              "      <td>0.000000e+00</td>\n",
              "    </tr>\n",
              "    <tr>\n",
              "      <th>75%</th>\n",
              "      <td>0.718275</td>\n",
              "      <td>1.600000e+07</td>\n",
              "      <td>2.463747e+07</td>\n",
              "      <td>112.000000</td>\n",
              "      <td>6.600000</td>\n",
              "      <td>2.103337e+07</td>\n",
              "      <td>3.411637e+07</td>\n",
              "    </tr>\n",
              "    <tr>\n",
              "      <th>max</th>\n",
              "      <td>32.985763</td>\n",
              "      <td>4.250000e+08</td>\n",
              "      <td>2.781506e+09</td>\n",
              "      <td>900.000000</td>\n",
              "      <td>9.200000</td>\n",
              "      <td>4.250000e+08</td>\n",
              "      <td>2.827124e+09</td>\n",
              "    </tr>\n",
              "  </tbody>\n",
              "</table>\n",
              "</div>\n",
              "      <button class=\"colab-df-convert\" onclick=\"convertToInteractive('df-6022d19a-0d77-4722-aef1-6772ee47c18a')\"\n",
              "              title=\"Convert this dataframe to an interactive table.\"\n",
              "              style=\"display:none;\">\n",
              "        \n",
              "  <svg xmlns=\"http://www.w3.org/2000/svg\" height=\"24px\"viewBox=\"0 0 24 24\"\n",
              "       width=\"24px\">\n",
              "    <path d=\"M0 0h24v24H0V0z\" fill=\"none\"/>\n",
              "    <path d=\"M18.56 5.44l.94 2.06.94-2.06 2.06-.94-2.06-.94-.94-2.06-.94 2.06-2.06.94zm-11 1L8.5 8.5l.94-2.06 2.06-.94-2.06-.94L8.5 2.5l-.94 2.06-2.06.94zm10 10l.94 2.06.94-2.06 2.06-.94-2.06-.94-.94-2.06-.94 2.06-2.06.94z\"/><path d=\"M17.41 7.96l-1.37-1.37c-.4-.4-.92-.59-1.43-.59-.52 0-1.04.2-1.43.59L10.3 9.45l-7.72 7.72c-.78.78-.78 2.05 0 2.83L4 21.41c.39.39.9.59 1.41.59.51 0 1.02-.2 1.41-.59l7.78-7.78 2.81-2.81c.8-.78.8-2.07 0-2.86zM5.41 20L4 18.59l7.72-7.72 1.47 1.35L5.41 20z\"/>\n",
              "  </svg>\n",
              "      </button>\n",
              "      \n",
              "  <style>\n",
              "    .colab-df-container {\n",
              "      display:flex;\n",
              "      flex-wrap:wrap;\n",
              "      gap: 12px;\n",
              "    }\n",
              "\n",
              "    .colab-df-convert {\n",
              "      background-color: #E8F0FE;\n",
              "      border: none;\n",
              "      border-radius: 50%;\n",
              "      cursor: pointer;\n",
              "      display: none;\n",
              "      fill: #1967D2;\n",
              "      height: 32px;\n",
              "      padding: 0 0 0 0;\n",
              "      width: 32px;\n",
              "    }\n",
              "\n",
              "    .colab-df-convert:hover {\n",
              "      background-color: #E2EBFA;\n",
              "      box-shadow: 0px 1px 2px rgba(60, 64, 67, 0.3), 0px 1px 3px 1px rgba(60, 64, 67, 0.15);\n",
              "      fill: #174EA6;\n",
              "    }\n",
              "\n",
              "    [theme=dark] .colab-df-convert {\n",
              "      background-color: #3B4455;\n",
              "      fill: #D2E3FC;\n",
              "    }\n",
              "\n",
              "    [theme=dark] .colab-df-convert:hover {\n",
              "      background-color: #434B5C;\n",
              "      box-shadow: 0px 1px 3px 1px rgba(0, 0, 0, 0.15);\n",
              "      filter: drop-shadow(0px 1px 2px rgba(0, 0, 0, 0.3));\n",
              "      fill: #FFFFFF;\n",
              "    }\n",
              "  </style>\n",
              "\n",
              "      <script>\n",
              "        const buttonEl =\n",
              "          document.querySelector('#df-6022d19a-0d77-4722-aef1-6772ee47c18a button.colab-df-convert');\n",
              "        buttonEl.style.display =\n",
              "          google.colab.kernel.accessAllowed ? 'block' : 'none';\n",
              "\n",
              "        async function convertToInteractive(key) {\n",
              "          const element = document.querySelector('#df-6022d19a-0d77-4722-aef1-6772ee47c18a');\n",
              "          const dataTable =\n",
              "            await google.colab.kernel.invokeFunction('convertToInteractive',\n",
              "                                                     [key], {});\n",
              "          if (!dataTable) return;\n",
              "\n",
              "          const docLinkHtml = 'Like what you see? Visit the ' +\n",
              "            '<a target=\"_blank\" href=https://colab.research.google.com/notebooks/data_table.ipynb>data table notebook</a>'\n",
              "            + ' to learn more about interactive tables.';\n",
              "          element.innerHTML = '';\n",
              "          dataTable['output_type'] = 'display_data';\n",
              "          await google.colab.output.renderOutput(dataTable, element);\n",
              "          const docLink = document.createElement('div');\n",
              "          docLink.innerHTML = docLinkHtml;\n",
              "          element.appendChild(docLink);\n",
              "        }\n",
              "      </script>\n",
              "    </div>\n",
              "  </div>\n",
              "  "
            ]
          },
          "metadata": {},
          "execution_count": 28
        }
      ]
    },
    {
      "cell_type": "code",
      "source": [
        "#first lets create a column that calculates the profit of a movie by subtracting the revenue from the budget\n",
        "\n",
        "df[\"profit\"] = df[\"revenue_adj\"] - df[\"budget_adj\"]"
      ],
      "metadata": {
        "id": "b_7ZW1SaMOOE"
      },
      "execution_count": 29,
      "outputs": []
    },
    {
      "cell_type": "code",
      "source": [
        "#lets create a histogram for all columns, from the histograms below we can see that these numerical features are mostly skewed to the left \n",
        "df.hist(figsize = (12,12));"
      ],
      "metadata": {
        "colab": {
          "base_uri": "https://localhost:8080/",
          "height": 729
        },
        "id": "oXyZZc89ZPoc",
        "outputId": "dc257783-a3bf-4209-b5b9-5904c74df2aa"
      },
      "execution_count": 31,
      "outputs": [
        {
          "output_type": "display_data",
          "data": {
            "text/plain": [
              "<Figure size 864x864 with 9 Axes>"
            ],
            "image/png": "[encoded data removed]"
          },
          "metadata": {
            "needs_background": "light"
          }
        }
      ]
    },
    {
      "cell_type": "markdown",
      "source": [
        "#Lets try to plot the correlatin between some variables"
      ],
      "metadata": {
        "id": "54D20wFpMw74"
      }
    },
    {
      "cell_type": "code",
      "source": [
        "#Lets look at the correlation between the runtime and the voting average, \n",
        "plt.scatter(df[\"runtime\"],df[\"vote_average\"])\n",
        "plt.xlabel(\"Runtime\")\n",
        "plt.ylabel(\"Vote average\")\n",
        "plt.title(\"Correlation between the runtime and voting avarage\")"
      ],
      "metadata": {
        "colab": {
          "base_uri": "https://localhost:8080/",
          "height": 312
        },
        "id": "HDnpWUuqNaRy",
        "outputId": "663868d4-ea1b-4474-df0f-c649401516c5"
      },
      "execution_count": 34,
      "outputs": [
        {
          "output_type": "execute_result",
          "data": {
            "text/plain": [
              "Text(0.5, 1.0, 'Correlation between the runtime and voting avarage')"
            ]
          },
          "metadata": {},
          "execution_count": 34
        },
        {
          "output_type": "display_data",
          "data": {
            "text/plain": [
              "<Figure size 432x288 with 1 Axes>"
            ],
            "image/png": "[encoded data removed]"
          },
          "metadata": {
            "needs_background": "light"
          }
        }
      ]
    },
    {
      "cell_type": "markdown",
      "source": [
        "#### from the graph above, there seems to be no correlation between the runtime and the vote average"
      ],
      "metadata": {
        "id": "EIRbMnrayWHb"
      }
    },
    {
      "cell_type": "code",
      "source": [
        "#Lets look at the correlation between the budget and the profit\n",
        "plt.scatter(df[\"budget_adj\"],df[\"profit\"])\n",
        "plt.xlabel(\"Budget\")\n",
        "plt.ylabel(\"Profit\")\n",
        "plt.title(\"Correlation between the budget and profit\")"
      ],
      "metadata": {
        "colab": {
          "base_uri": "https://localhost:8080/",
          "height": 312
        },
        "id": "4xK1ZGcCPL7U",
        "outputId": "a215b4c8-9933-41ac-a8ee-e7c65e7d7a79"
      },
      "execution_count": 35,
      "outputs": [
        {
          "output_type": "execute_result",
          "data": {
            "text/plain": [
              "Text(0.5, 1.0, 'Correlation between the budget and profit')"
            ]
          },
          "metadata": {},
          "execution_count": 35
        },
        {
          "output_type": "display_data",
          "data": {
            "text/plain": [
              "<Figure size 432x288 with 1 Axes>"
            ],
            "image/png": "[encoded data removed]"
          },
          "metadata": {
            "needs_background": "light"
          }
        }
      ]
    },
    {
      "cell_type": "markdown",
      "source": [
        "#### from the graph above, there seems to be no correlation between the budget and the profit"
      ],
      "metadata": {
        "id": "VMf4aa6-ydNf"
      }
    },
    {
      "cell_type": "code",
      "source": [
        "#Lets look at the correlation between the release_year and the popularity\n",
        "plt.scatter(df[\"release_year\"],df[\"popularity\"])\n",
        "plt.xlabel(\"Release year\")\n",
        "plt.ylabel(\"Popularity\")\n",
        "plt.title(\"Correlation between the release year and popularity\")"
      ],
      "metadata": {
        "colab": {
          "base_uri": "https://localhost:8080/",
          "height": 312
        },
        "id": "eQHSYTYaQpGd",
        "outputId": "fd362a8c-2d28-4808-c955-3114525040aa"
      },
      "execution_count": 36,
      "outputs": [
        {
          "output_type": "execute_result",
          "data": {
            "text/plain": [
              "Text(0.5, 1.0, 'Correlation between the release year and popularity')"
            ]
          },
          "metadata": {},
          "execution_count": 36
        },
        {
          "output_type": "display_data",
          "data": {
            "text/plain": [
              "<Figure size 432x288 with 1 Axes>"
            ],
            "image/png": "[encoded data removed]"
          },
          "metadata": {
            "needs_background": "light"
          }
        }
      ]
    },
    {
      "cell_type": "markdown",
      "source": [
        "#### from the graph above, there seems to be no correlation between the release_year and the popularity"
      ],
      "metadata": {
        "id": "4t0WNPhGyg0f"
      }
    },
    {
      "cell_type": "markdown",
      "source": [
        "#### Q1. How much has the rating improved over the years\n",
        "\n",
        "\n",
        "---\n",
        "\n",
        "\n",
        "\n"
      ],
      "metadata": {
        "id": "MnNNIjPkMO_6"
      }
    },
    {
      "cell_type": "code",
      "source": [
        "# We need to calculate the overall rating for each year\n",
        "df.groupby(\"release_year\")[\"vote_average\"].mean().plot( kind = \"line\", figsize = (15,15));\n",
        "plt.xlabel(\"Year\")\n",
        "plt.ylabel(\"Ratings\")\n",
        "plt.title(\"Rating for each year\")"
      ],
      "metadata": {
        "colab": {
          "base_uri": "https://localhost:8080/",
          "height": 910
        },
        "id": "mgQPaMCsafui",
        "outputId": "0eed687a-557a-46e6-d32c-c588e4f75a2f"
      },
      "execution_count": 37,
      "outputs": [
        {
          "output_type": "execute_result",
          "data": {
            "text/plain": [
              "Text(0.5, 1.0, 'Rating for each year')"
            ]
          },
          "metadata": {},
          "execution_count": 37
        },
        {
          "output_type": "display_data",
          "data": {
            "text/plain": [
              "<Figure size 1080x1080 with 1 Axes>"
            ],
            "image/png": "[encoded data removed]"
          },
          "metadata": {
            "needs_background": "light"
          }
        }
      ]
    },
    {
      "cell_type": "code",
      "source": [
        "# to get a clearer insight, we can calculate the mean of 1960 ratings and that of 2015 and subtract them\n",
        "df_1960 = df.groupby(\"release_year\").get_group(\"1960-01-01\")[\"vote_average\"].mean()\n",
        "df_2015 = df.groupby(\"release_year\").get_group(\"2015-01-01\")[\"vote_average\"].mean()\n",
        "df_2015 - df_1960"
      ],
      "metadata": {
        "colab": {
          "base_uri": "https://localhost:8080/"
        },
        "id": "a2mg5aqcgaBj",
        "outputId": "6c54b0e5-3f90-419e-c138-1411d8f6dfb0"
      },
      "execution_count": 38,
      "outputs": [
        {
          "output_type": "execute_result",
          "data": {
            "text/plain": [
              "-0.46042673107890586"
            ]
          },
          "metadata": {},
          "execution_count": 38
        }
      ]
    },
    {
      "cell_type": "markdown",
      "source": [
        "    The vote decreased by 0.46"
      ],
      "metadata": {
        "id": "H_y7sFWmnzhG"
      }
    },
    {
      "cell_type": "markdown",
      "source": [
        "Q2. Visualize the popularity of the movies over the years\n",
        "\n",
        "\n"
      ],
      "metadata": {
        "id": "GIKgl6Y9nJWc"
      }
    },
    {
      "cell_type": "code",
      "source": [
        "df.groupby(\"release_year\")[\"popularity\"].mean().plot(kind = \"line\", figsize = (12,12));\n",
        "plt.xlabel(\"Release Year\")\n",
        "plt.ylabel(\"Popularity\")\n",
        "plt.title(\"Release year vs popularity\")"
      ],
      "metadata": {
        "colab": {
          "base_uri": "https://localhost:8080/",
          "height": 747
        },
        "id": "5yLug3n1hWyg",
        "outputId": "8635b7f3-fd24-4a08-bc04-3413f2fa4cd9"
      },
      "execution_count": 39,
      "outputs": [
        {
          "output_type": "execute_result",
          "data": {
            "text/plain": [
              "Text(0.5, 1.0, 'Release year vs popularity')"
            ]
          },
          "metadata": {},
          "execution_count": 39
        },
        {
          "output_type": "display_data",
          "data": {
            "text/plain": [
              "<Figure size 864x864 with 1 Axes>"
            ],
            "image/png": "[encoded data removed]"
          },
          "metadata": {
            "needs_background": "light"
          }
        }
      ]
    },
    {
      "cell_type": "code",
      "source": [
        "# to get a clearer insight, we can calculate the mean of 1960 ratings and that of 2015 and subtract them\n",
        "df_popularity_1960 = df.groupby(\"release_year\").get_group(\"1960-01-01\")[\"popularity\"].mean()\n",
        "df_popularity_2015 = df.groupby(\"release_year\").get_group(\"2015-01-01\")[\"popularity\"].mean()\n",
        "df_popularity_2015 - df_popularity_1960"
      ],
      "metadata": {
        "colab": {
          "base_uri": "https://localhost:8080/"
        },
        "id": "yct3YiQond4X",
        "outputId": "61f6b738-8320-431e-fe59-c56d0aa039b4"
      },
      "execution_count": 40,
      "outputs": [
        {
          "output_type": "execute_result",
          "data": {
            "text/plain": [
              "0.5828735747785828"
            ]
          },
          "metadata": {},
          "execution_count": 40
        }
      ]
    },
    {
      "cell_type": "markdown",
      "source": [
        "    The popularity increased by 0.582"
      ],
      "metadata": {
        "id": "xlOA1o3Qnrtu"
      }
    },
    {
      "cell_type": "markdown",
      "source": [
        "Q3. What level of popularity receives the highest revenue?\n"
      ],
      "metadata": {
        "id": "YYmFQJwZCHPe"
      }
    },
    {
      "cell_type": "code",
      "source": [
        "#first we get the min, 25%, 75%, and max values of popularity\n",
        "df[\"popularity\"].describe()"
      ],
      "metadata": {
        "colab": {
          "base_uri": "https://localhost:8080/"
        },
        "id": "uybt5U-unrOo",
        "outputId": "e4460198-99ef-4e25-a867-e85f1269e72a"
      },
      "execution_count": 41,
      "outputs": [
        {
          "output_type": "execute_result",
          "data": {
            "text/plain": [
              "count    10789.000000\n",
              "mean         0.649943\n",
              "std          1.002792\n",
              "min          0.000065\n",
              "25%          0.209655\n",
              "50%          0.385492\n",
              "75%          0.718275\n",
              "max         32.985763\n",
              "Name: popularity, dtype: float64"
            ]
          },
          "metadata": {},
          "execution_count": 41
        }
      ]
    },
    {
      "cell_type": "code",
      "source": [
        "#next, we create bins and labels, lets create a function to make our code less repetitive\n",
        "\n",
        "def bins_labels(bins, labels, cut_by, find_out):\n",
        "  df[\"value\"] = pd.cut(df[cut_by], bins=bins, labels = labels)\n",
        "  return(df.groupby(\"value\")[find_out].mean())"
      ],
      "metadata": {
        "id": "WNz4UVUHCef7"
      },
      "execution_count": 42,
      "outputs": []
    },
    {
      "cell_type": "code",
      "source": [
        "labels = ['Low', 'Medium', 'Moderately High', 'High']\n",
        "bins = [0.000065, 0.209655,0.385492,0.718275, 32.985763]\n",
        "popularity_level = bins_labels(bins, labels, 'popularity', 'revenue')\n",
        "popularity_level.plot(kind = \"bar\",  figsize=(12,12))\n",
        "plt.xlabel(\"Popularity Level\")\n",
        "plt.ylabel(\"Revenue\")\n",
        "plt.title(\"popularity level vs revenue\")"
      ],
      "metadata": {
        "colab": {
          "base_uri": "https://localhost:8080/",
          "height": 820
        },
        "id": "UUB45Y6sEZEp",
        "outputId": "5731b594-566e-4fa9-dc4e-98c00b3d0798"
      },
      "execution_count": 43,
      "outputs": [
        {
          "output_type": "execute_result",
          "data": {
            "text/plain": [
              "Text(0.5, 1.0, 'popularity level vs revenue')"
            ]
          },
          "metadata": {},
          "execution_count": 43
        },
        {
          "output_type": "display_data",
          "data": {
            "text/plain": [
              "<Figure size 864x864 with 1 Axes>"
            ],
            "image/png": "[encoded data removed]"
          },
          "metadata": {
            "needs_background": "light"
          }
        }
      ]
    },
    {
      "cell_type": "markdown",
      "source": [
        "Q3. What level of runtime associated with the highest voting score?"
      ],
      "metadata": {
        "id": "j0kZ8KMuFAfJ"
      }
    },
    {
      "cell_type": "code",
      "source": [
        "df[\"runtime\"].describe()"
      ],
      "metadata": {
        "colab": {
          "base_uri": "https://localhost:8080/"
        },
        "id": "BKvLeB1lFALP",
        "outputId": "8fe44e28-f6b6-4a7f-ff97-964fadff86de"
      },
      "execution_count": 44,
      "outputs": [
        {
          "output_type": "execute_result",
          "data": {
            "text/plain": [
              "count    10789.000000\n",
              "mean       102.346835\n",
              "std         30.998457\n",
              "min          0.000000\n",
              "25%         90.000000\n",
              "50%         99.000000\n",
              "75%        112.000000\n",
              "max        900.000000\n",
              "Name: runtime, dtype: float64"
            ]
          },
          "metadata": {},
          "execution_count": 44
        }
      ]
    },
    {
      "cell_type": "code",
      "source": [
        "#lets use the function we created above\n",
        "labels = ['Low', 'Medium', 'Moderately High', 'High']\n",
        "bins = [0.000000, 90.000000,99.000000,112.000000, 900.000000]\n",
        "runtime_level = bins_labels(bins, labels, 'runtime', 'vote_average')\n",
        "runtime_level.plot(kind = \"bar\",  figsize=(12,12))\n",
        "\n",
        "plt.xlabel(\"Runtime Level\")\n",
        "plt.ylabel(\"Vote Average\")\n",
        "plt.title(\"Runtime level vs vote average\")\n"
      ],
      "metadata": {
        "colab": {
          "base_uri": "https://localhost:8080/",
          "height": 820
        },
        "id": "hd0j10bfFLJN",
        "outputId": "0d12b40b-dfe9-4dca-afbd-eb25e87ab7c0"
      },
      "execution_count": 46,
      "outputs": [
        {
          "output_type": "execute_result",
          "data": {
            "text/plain": [
              "Text(0.5, 1.0, 'Runtime level vs vote average')"
            ]
          },
          "metadata": {},
          "execution_count": 46
        },
        {
          "output_type": "display_data",
          "data": {
            "text/plain": [
              "<Figure size 864x864 with 1 Axes>"
            ],
            "image/png": "[encoded data removed]"
          },
          "metadata": {
            "needs_background": "light"
          }
        }
      ]
    },
    {
      "cell_type": "markdown",
      "source": [
        "#### The highest runtime movies have highest voting scores"
      ],
      "metadata": {
        "id": "eORM8tLQ0LXT"
      }
    },
    {
      "cell_type": "code",
      "source": [
        "runtime_level"
      ],
      "metadata": {
        "colab": {
          "base_uri": "https://localhost:8080/"
        },
        "id": "QhVdjgcrFu5j",
        "outputId": "f8c1a4ff-a740-4d82-a30b-af15bf3f672e"
      },
      "execution_count": 47,
      "outputs": [
        {
          "output_type": "execute_result",
          "data": {
            "text/plain": [
              "value\n",
              "Low                5.738387\n",
              "Medium             5.725104\n",
              "Moderately High    6.046131\n",
              "High               6.403799\n",
              "Name: vote_average, dtype: float64"
            ]
          },
          "metadata": {},
          "execution_count": 47
        }
      ]
    },
    {
      "cell_type": "markdown",
      "source": [
        "Q4. Who are the top 5 cast memebers with highest movie voting (check only first 200 top voted movies)?\n"
      ],
      "metadata": {
        "id": "GnptcHBBIRgl"
      }
    },
    {
      "cell_type": "code",
      "source": [
        "# Lets create a new dataframe with a sorted \"voting average\"\n",
        "df_highest_rating = df.sort_values(['vote_average'], ascending=[False])"
      ],
      "metadata": {
        "id": "HPrdh-BzJQLc"
      },
      "execution_count": 48,
      "outputs": []
    },
    {
      "cell_type": "code",
      "source": [
        "df_highest_rating.head(10)"
      ],
      "metadata": {
        "colab": {
          "base_uri": "https://localhost:8080/",
          "height": 965
        },
        "id": "iSLwuwNxJ5Cc",
        "outputId": "87b84cce-b3b2-4eac-80e4-9dabd7abff93"
      },
      "execution_count": 49,
      "outputs": [
        {
          "output_type": "execute_result",
          "data": {
            "text/plain": [
              "      popularity  budget  revenue  \\\n",
              "3894    0.006925       0        0   \n",
              "1200    0.129531       0        0   \n",
              "6911    0.212010       0        0   \n",
              "2401    0.067753       0        0   \n",
              "8411    0.302908       0        0   \n",
              "3690    0.321341       0        0   \n",
              "8839    0.157001       0        0   \n",
              "3224    0.224721       0        0   \n",
              "5830    0.248944       0        0   \n",
              "8221    0.194889       0        0   \n",
              "\n",
              "                                         original_title  \\\n",
              "3894                      The Story of Film: An Odyssey   \n",
              "1200                      Black Mirror: White Christmas   \n",
              "6911                                  Pink Floyd: Pulse   \n",
              "2401    Opeth: In Live Concert At The Royal Albert Hall   \n",
              "8411                              Queen - Rock Montreal   \n",
              "3690                                  The Art of Flight   \n",
              "8839                Dave Chappelle: Killin' Them Softly   \n",
              "3224  John Mayer: Where the Light Is Live in Los Ang...   \n",
              "5830                 Doctor Who: The Time of the Doctor   \n",
              "8221  A Personal Journey with Martin Scorsese Throug...   \n",
              "\n",
              "                                                   cast  \\\n",
              "3894  Mark Cousins|Jean-Michel Frodon|Cari Beauchamp...   \n",
              "1200  Jon Hamm|Rafe Spall|Oona Chaplin|Natalia Tena|...   \n",
              "6911  David Gilmour|Nick Mason|Richard Wright|Sam Br...   \n",
              "2401  Mikael Ã…kerfeldt|Martin \"Axe\" Axenrot|Martin ...   \n",
              "8411  Freddie Mercury|Roger Taylor|John Deacon|Brian...   \n",
              "3690  Travis Rice|Nicolas Muller|Mark Landvik|Jake B...   \n",
              "8839                                     Dave Chappelle   \n",
              "3224  John Mayer|Steve Jordan|Pino Palladino|David R...   \n",
              "5830                           Matt Smith|Jenna Coleman   \n",
              "8221  Martin Scorsese|Brian De Palma|Gregory Peck|Fr...   \n",
              "\n",
              "                                  director  runtime  \\\n",
              "3894                          Mark Cousins      900   \n",
              "1200                         Carl Tibbetts       74   \n",
              "6911                          David Mallet      145   \n",
              "2401                               Missing      163   \n",
              "8411                          Saul Swimmer      138   \n",
              "3690                           Curt Morgan       80   \n",
              "8839                           Stan Lathan       57   \n",
              "3224                               Missing      164   \n",
              "5830                           James Payne       60   \n",
              "8221  Martin Scorsese|Michael Henry Wilson      225   \n",
              "\n",
              "                                             genres  \\\n",
              "3894                                    Documentary   \n",
              "1200  Drama|Horror|Mystery|Science Fiction|Thriller   \n",
              "6911                                          Music   \n",
              "2401                                          Music   \n",
              "8411                                          Music   \n",
              "3690                          Adventure|Documentary   \n",
              "8839                                         Comedy   \n",
              "3224                                          Music   \n",
              "5830                                          Drama   \n",
              "8221                                    Documentary   \n",
              "\n",
              "                                production_companies  vote_average  \\\n",
              "3894                                         Missing           9.2   \n",
              "1200                                         Missing           8.8   \n",
              "6911        SMV Enterprises|Columbia Music Video|EMI           8.7   \n",
              "2401                                         Missing           8.6   \n",
              "8411                               Edel records GmbH           8.5   \n",
              "3690  Red Bull Media House|Brain Farm Digital Cinema           8.5   \n",
              "8839                                         Missing           8.5   \n",
              "3224                                         Missing           8.5   \n",
              "5830                                         Missing           8.5   \n",
              "8221      Miramax Films|British Film Institute (BFI)           8.5   \n",
              "\n",
              "     release_year  budget_adj  revenue_adj  profit value  \n",
              "3894   2011-01-01         0.0          0.0     0.0  High  \n",
              "1200   2014-01-01         0.0          0.0     0.0   Low  \n",
              "6911   2006-01-01         0.0          0.0     0.0  High  \n",
              "2401   2010-01-01         0.0          0.0     0.0  High  \n",
              "8411   1981-01-01         0.0          0.0     0.0  High  \n",
              "3690   2011-01-01         0.0          0.0     0.0   Low  \n",
              "8839   2000-01-01         0.0          0.0     0.0   Low  \n",
              "3224   2008-01-01         0.0          0.0     0.0  High  \n",
              "5830   2013-01-01         0.0          0.0     0.0   Low  \n",
              "8221   1995-01-01         0.0          0.0     0.0  High  "
            ],
            "text/html": [
              "\n",
              "  <div id=\"df-3547f2e5-a365-415b-8b35-b986c2943349\">\n",
              "    <div class=\"colab-df-container\">\n",
              "      <div>\n",
              "<style scoped>\n",
              "    .dataframe tbody tr th:only-of-type {\n",
              "        vertical-align: middle;\n",
              "    }\n",
              "\n",
              "    .dataframe tbody tr th {\n",
              "        vertical-align: top;\n",
              "    }\n",
              "\n",
              "    .dataframe thead th {\n",
              "        text-align: right;\n",
              "    }\n",
              "</style>\n",
              "<table border=\"1\" class=\"dataframe\">\n",
              "  <thead>\n",
              "    <tr style=\"text-align: right;\">\n",
              "      <th></th>\n",
              "      <th>popularity</th>\n",
              "      <th>budget</th>\n",
              "      <th>revenue</th>\n",
              "      <th>original_title</th>\n",
              "      <th>cast</th>\n",
              "      <th>director</th>\n",
              "      <th>runtime</th>\n",
              "      <th>genres</th>\n",
              "      <th>production_companies</th>\n",
              "      <th>vote_average</th>\n",
              "      <th>release_year</th>\n",
              "      <th>budget_adj</th>\n",
              "      <th>revenue_adj</th>\n",
              "      <th>profit</th>\n",
              "      <th>value</th>\n",
              "    </tr>\n",
              "  </thead>\n",
              "  <tbody>\n",
              "    <tr>\n",
              "      <th>3894</th>\n",
              "      <td>0.006925</td>\n",
              "      <td>0</td>\n",
              "      <td>0</td>\n",
              "      <td>The Story of Film: An Odyssey</td>\n",
              "      <td>Mark Cousins|Jean-Michel Frodon|Cari Beauchamp...</td>\n",
              "      <td>Mark Cousins</td>\n",
              "      <td>900</td>\n",
              "      <td>Documentary</td>\n",
              "      <td>Missing</td>\n",
              "      <td>9.2</td>\n",
              "      <td>2011-01-01</td>\n",
              "      <td>0.0</td>\n",
              "      <td>0.0</td>\n",
              "      <td>0.0</td>\n",
              "      <td>High</td>\n",
              "    </tr>\n",
              "    <tr>\n",
              "      <th>1200</th>\n",
              "      <td>0.129531</td>\n",
              "      <td>0</td>\n",
              "      <td>0</td>\n",
              "      <td>Black Mirror: White Christmas</td>\n",
              "      <td>Jon Hamm|Rafe Spall|Oona Chaplin|Natalia Tena|...</td>\n",
              "      <td>Carl Tibbetts</td>\n",
              "      <td>74</td>\n",
              "      <td>Drama|Horror|Mystery|Science Fiction|Thriller</td>\n",
              "      <td>Missing</td>\n",
              "      <td>8.8</td>\n",
              "      <td>2014-01-01</td>\n",
              "      <td>0.0</td>\n",
              "      <td>0.0</td>\n",
              "      <td>0.0</td>\n",
              "      <td>Low</td>\n",
              "    </tr>\n",
              "    <tr>\n",
              "      <th>6911</th>\n",
              "      <td>0.212010</td>\n",
              "      <td>0</td>\n",
              "      <td>0</td>\n",
              "      <td>Pink Floyd: Pulse</td>\n",
              "      <td>David Gilmour|Nick Mason|Richard Wright|Sam Br...</td>\n",
              "      <td>David Mallet</td>\n",
              "      <td>145</td>\n",
              "      <td>Music</td>\n",
              "      <td>SMV Enterprises|Columbia Music Video|EMI</td>\n",
              "      <td>8.7</td>\n",
              "      <td>2006-01-01</td>\n",
              "      <td>0.0</td>\n",
              "      <td>0.0</td>\n",
              "      <td>0.0</td>\n",
              "      <td>High</td>\n",
              "    </tr>\n",
              "    <tr>\n",
              "      <th>2401</th>\n",
              "      <td>0.067753</td>\n",
              "      <td>0</td>\n",
              "      <td>0</td>\n",
              "      <td>Opeth: In Live Concert At The Royal Albert Hall</td>\n",
              "      <td>Mikael Ã…kerfeldt|Martin \"Axe\" Axenrot|Martin ...</td>\n",
              "      <td>Missing</td>\n",
              "      <td>163</td>\n",
              "      <td>Music</td>\n",
              "      <td>Missing</td>\n",
              "      <td>8.6</td>\n",
              "      <td>2010-01-01</td>\n",
              "      <td>0.0</td>\n",
              "      <td>0.0</td>\n",
              "      <td>0.0</td>\n",
              "      <td>High</td>\n",
              "    </tr>\n",
              "    <tr>\n",
              "      <th>8411</th>\n",
              "      <td>0.302908</td>\n",
              "      <td>0</td>\n",
              "      <td>0</td>\n",
              "      <td>Queen - Rock Montreal</td>\n",
              "      <td>Freddie Mercury|Roger Taylor|John Deacon|Brian...</td>\n",
              "      <td>Saul Swimmer</td>\n",
              "      <td>138</td>\n",
              "      <td>Music</td>\n",
              "      <td>Edel records GmbH</td>\n",
              "      <td>8.5</td>\n",
              "      <td>1981-01-01</td>\n",
              "      <td>0.0</td>\n",
              "      <td>0.0</td>\n",
              "      <td>0.0</td>\n",
              "      <td>High</td>\n",
              "    </tr>\n",
              "    <tr>\n",
              "      <th>3690</th>\n",
              "      <td>0.321341</td>\n",
              "      <td>0</td>\n",
              "      <td>0</td>\n",
              "      <td>The Art of Flight</td>\n",
              "      <td>Travis Rice|Nicolas Muller|Mark Landvik|Jake B...</td>\n",
              "      <td>Curt Morgan</td>\n",
              "      <td>80</td>\n",
              "      <td>Adventure|Documentary</td>\n",
              "      <td>Red Bull Media House|Brain Farm Digital Cinema</td>\n",
              "      <td>8.5</td>\n",
              "      <td>2011-01-01</td>\n",
              "      <td>0.0</td>\n",
              "      <td>0.0</td>\n",
              "      <td>0.0</td>\n",
              "      <td>Low</td>\n",
              "    </tr>\n",
              "    <tr>\n",
              "      <th>8839</th>\n",
              "      <td>0.157001</td>\n",
              "      <td>0</td>\n",
              "      <td>0</td>\n",
              "      <td>Dave Chappelle: Killin' Them Softly</td>\n",
              "      <td>Dave Chappelle</td>\n",
              "      <td>Stan Lathan</td>\n",
              "      <td>57</td>\n",
              "      <td>Comedy</td>\n",
              "      <td>Missing</td>\n",
              "      <td>8.5</td>\n",
              "      <td>2000-01-01</td>\n",
              "      <td>0.0</td>\n",
              "      <td>0.0</td>\n",
              "      <td>0.0</td>\n",
              "      <td>Low</td>\n",
              "    </tr>\n",
              "    <tr>\n",
              "      <th>3224</th>\n",
              "      <td>0.224721</td>\n",
              "      <td>0</td>\n",
              "      <td>0</td>\n",
              "      <td>John Mayer: Where the Light Is Live in Los Ang...</td>\n",
              "      <td>John Mayer|Steve Jordan|Pino Palladino|David R...</td>\n",
              "      <td>Missing</td>\n",
              "      <td>164</td>\n",
              "      <td>Music</td>\n",
              "      <td>Missing</td>\n",
              "      <td>8.5</td>\n",
              "      <td>2008-01-01</td>\n",
              "      <td>0.0</td>\n",
              "      <td>0.0</td>\n",
              "      <td>0.0</td>\n",
              "      <td>High</td>\n",
              "    </tr>\n",
              "    <tr>\n",
              "      <th>5830</th>\n",
              "      <td>0.248944</td>\n",
              "      <td>0</td>\n",
              "      <td>0</td>\n",
              "      <td>Doctor Who: The Time of the Doctor</td>\n",
              "      <td>Matt Smith|Jenna Coleman</td>\n",
              "      <td>James Payne</td>\n",
              "      <td>60</td>\n",
              "      <td>Drama</td>\n",
              "      <td>Missing</td>\n",
              "      <td>8.5</td>\n",
              "      <td>2013-01-01</td>\n",
              "      <td>0.0</td>\n",
              "      <td>0.0</td>\n",
              "      <td>0.0</td>\n",
              "      <td>Low</td>\n",
              "    </tr>\n",
              "    <tr>\n",
              "      <th>8221</th>\n",
              "      <td>0.194889</td>\n",
              "      <td>0</td>\n",
              "      <td>0</td>\n",
              "      <td>A Personal Journey with Martin Scorsese Throug...</td>\n",
              "      <td>Martin Scorsese|Brian De Palma|Gregory Peck|Fr...</td>\n",
              "      <td>Martin Scorsese|Michael Henry Wilson</td>\n",
              "      <td>225</td>\n",
              "      <td>Documentary</td>\n",
              "      <td>Miramax Films|British Film Institute (BFI)</td>\n",
              "      <td>8.5</td>\n",
              "      <td>1995-01-01</td>\n",
              "      <td>0.0</td>\n",
              "      <td>0.0</td>\n",
              "      <td>0.0</td>\n",
              "      <td>High</td>\n",
              "    </tr>\n",
              "  </tbody>\n",
              "</table>\n",
              "</div>\n",
              "      <button class=\"colab-df-convert\" onclick=\"convertToInteractive('df-3547f2e5-a365-415b-8b35-b986c2943349')\"\n",
              "              title=\"Convert this dataframe to an interactive table.\"\n",
              "              style=\"display:none;\">\n",
              "        \n",
              "  <svg xmlns=\"http://www.w3.org/2000/svg\" height=\"24px\"viewBox=\"0 0 24 24\"\n",
              "       width=\"24px\">\n",
              "    <path d=\"M0 0h24v24H0V0z\" fill=\"none\"/>\n",
              "    <path d=\"M18.56 5.44l.94 2.06.94-2.06 2.06-.94-2.06-.94-.94-2.06-.94 2.06-2.06.94zm-11 1L8.5 8.5l.94-2.06 2.06-.94-2.06-.94L8.5 2.5l-.94 2.06-2.06.94zm10 10l.94 2.06.94-2.06 2.06-.94-2.06-.94-.94-2.06-.94 2.06-2.06.94z\"/><path d=\"M17.41 7.96l-1.37-1.37c-.4-.4-.92-.59-1.43-.59-.52 0-1.04.2-1.43.59L10.3 9.45l-7.72 7.72c-.78.78-.78 2.05 0 2.83L4 21.41c.39.39.9.59 1.41.59.51 0 1.02-.2 1.41-.59l7.78-7.78 2.81-2.81c.8-.78.8-2.07 0-2.86zM5.41 20L4 18.59l7.72-7.72 1.47 1.35L5.41 20z\"/>\n",
              "  </svg>\n",
              "      </button>\n",
              "      \n",
              "  <style>\n",
              "    .colab-df-container {\n",
              "      display:flex;\n",
              "      flex-wrap:wrap;\n",
              "      gap: 12px;\n",
              "    }\n",
              "\n",
              "    .colab-df-convert {\n",
              "      background-color: #E8F0FE;\n",
              "      border: none;\n",
              "      border-radius: 50%;\n",
              "      cursor: pointer;\n",
              "      display: none;\n",
              "      fill: #1967D2;\n",
              "      height: 32px;\n",
              "      padding: 0 0 0 0;\n",
              "      width: 32px;\n",
              "    }\n",
              "\n",
              "    .colab-df-convert:hover {\n",
              "      background-color: #E2EBFA;\n",
              "      box-shadow: 0px 1px 2px rgba(60, 64, 67, 0.3), 0px 1px 3px 1px rgba(60, 64, 67, 0.15);\n",
              "      fill: #174EA6;\n",
              "    }\n",
              "\n",
              "    [theme=dark] .colab-df-convert {\n",
              "      background-color: #3B4455;\n",
              "      fill: #D2E3FC;\n",
              "    }\n",
              "\n",
              "    [theme=dark] .colab-df-convert:hover {\n",
              "      background-color: #434B5C;\n",
              "      box-shadow: 0px 1px 3px 1px rgba(0, 0, 0, 0.15);\n",
              "      filter: drop-shadow(0px 1px 2px rgba(0, 0, 0, 0.3));\n",
              "      fill: #FFFFFF;\n",
              "    }\n",
              "  </style>\n",
              "\n",
              "      <script>\n",
              "        const buttonEl =\n",
              "          document.querySelector('#df-3547f2e5-a365-415b-8b35-b986c2943349 button.colab-df-convert');\n",
              "        buttonEl.style.display =\n",
              "          google.colab.kernel.accessAllowed ? 'block' : 'none';\n",
              "\n",
              "        async function convertToInteractive(key) {\n",
              "          const element = document.querySelector('#df-3547f2e5-a365-415b-8b35-b986c2943349');\n",
              "          const dataTable =\n",
              "            await google.colab.kernel.invokeFunction('convertToInteractive',\n",
              "                                                     [key], {});\n",
              "          if (!dataTable) return;\n",
              "\n",
              "          const docLinkHtml = 'Like what you see? Visit the ' +\n",
              "            '<a target=\"_blank\" href=https://colab.research.google.com/notebooks/data_table.ipynb>data table notebook</a>'\n",
              "            + ' to learn more about interactive tables.';\n",
              "          element.innerHTML = '';\n",
              "          dataTable['output_type'] = 'display_data';\n",
              "          await google.colab.output.renderOutput(dataTable, element);\n",
              "          const docLink = document.createElement('div');\n",
              "          docLink.innerHTML = docLinkHtml;\n",
              "          element.appendChild(docLink);\n",
              "        }\n",
              "      </script>\n",
              "    </div>\n",
              "  </div>\n",
              "  "
            ]
          },
          "metadata": {},
          "execution_count": 49
        }
      ]
    },
    {
      "cell_type": "code",
      "source": [
        "# lets split the charactets by \"|\" and select only the top 200 ratings\n",
        "all_cast =df_highest_rating[\"cast\"].head(200).str.cat(sep='|').split('|')\n",
        "#transfer it to a dataframe\n",
        "values = pd.DataFrame({'value' :all_cast})\n",
        "#value count to count the number of times each cast appeared\n",
        "values = values['value'].value_counts().head(5).plot(kind = \"bar\")\n",
        "plt.xlabel(\"Cast\")\n",
        "plt.ylabel(\"Count\")\n",
        "plt.title(\"Top 5 cast members and thier appearance in top rated movies\")"
      ],
      "metadata": {
        "colab": {
          "base_uri": "https://localhost:8080/",
          "height": 375
        },
        "id": "e2NExGEaJyfi",
        "outputId": "0ded6f7a-f910-4c68-fc4a-7a3570de55f1"
      },
      "execution_count": 50,
      "outputs": [
        {
          "output_type": "execute_result",
          "data": {
            "text/plain": [
              "Text(0.5, 1.0, 'Top 5 cast members and thier appearance in top rated movies')"
            ]
          },
          "metadata": {},
          "execution_count": 50
        },
        {
          "output_type": "display_data",
          "data": {
            "text/plain": [
              "<Figure size 432x288 with 1 Axes>"
            ],
            "image/png": "[encoded data removed]"
          },
          "metadata": {
            "needs_background": "light"
          }
        }
      ]
    },
    {
      "cell_type": "markdown",
      "source": [
        "#### From the chart above, we can see that Elijah wood, Micheal Caine, Jared Leto, ian Mckellen, Robert De Niro have the highest rated movies"
      ],
      "metadata": {
        "id": "aF1dXKux0Wic"
      }
    },
    {
      "cell_type": "markdown",
      "source": [
        "Q5. Which genres are most popular\n",
        "\n"
      ],
      "metadata": {
        "id": "cB21UD6LVEfd"
      }
    },
    {
      "cell_type": "code",
      "source": [
        "# Lets create a new dataframe with a sorted \"voting average\"\n",
        "df_popularity = df.sort_values(['popularity'], ascending=[False])\n",
        "# lets split the characters by \"|\" and select only the top 100 popular\n",
        "all_genre =df_highest_rating[\"genres\"].head(100).str.cat(sep='|').split('|')\n",
        "#transfer it to a dataframe\n",
        "values = pd.DataFrame({'value' :all_genre})\n",
        "#value count to count the number of times each genre appeared\n",
        "values = values['value'].value_counts().head(5).plot(kind = \"bar\")\n",
        "plt.xlabel(\"Genre\")\n",
        "plt.ylabel(\"Count\")\n",
        "plt.title(\"Top 5 genres and thier appearance in top voted movies\")"
      ],
      "metadata": {
        "colab": {
          "base_uri": "https://localhost:8080/",
          "height": 370
        },
        "id": "mHcuzCbRoWzK",
        "outputId": "c4e7560d-0537-49f8-fbac-383bbee91386"
      },
      "execution_count": 51,
      "outputs": [
        {
          "output_type": "execute_result",
          "data": {
            "text/plain": [
              "Text(0.5, 1.0, 'Top 5 genres and thier appearance in top voted movies')"
            ]
          },
          "metadata": {},
          "execution_count": 51
        },
        {
          "output_type": "display_data",
          "data": {
            "text/plain": [
              "<Figure size 432x288 with 1 Axes>"
            ],
            "image/png": "[encoded data removed]"
          },
          "metadata": {
            "needs_background": "light"
          }
        }
      ]
    },
    {
      "cell_type": "markdown",
      "source": [
        "#### The 5 most popular genres are: Drama, Documentary, Music Comedy and crime"
      ],
      "metadata": {
        "id": "wBI2hmKC0ggG"
      }
    },
    {
      "cell_type": "markdown",
      "source": [
        "Q6: What are the top 5 movies with the highest profit\n",
        "\n",
        "\n"
      ],
      "metadata": {
        "id": "i9hsT-7SpPUG"
      }
    },
    {
      "cell_type": "code",
      "source": [
        "df_profit = df.sort_values(['profit'], ascending=[False])\n",
        "df_profit_five = df_profit.head(5)\n",
        "df_profit_five"
      ],
      "metadata": {
        "colab": {
          "base_uri": "https://localhost:8080/",
          "height": 513
        },
        "id": "KR-VS8B1pV_V",
        "outputId": "921c3cb1-a48e-432b-d009-a48ffd70181d"
      },
      "execution_count": 52,
      "outputs": [
        {
          "output_type": "execute_result",
          "data": {
            "text/plain": [
              "       popularity     budget     revenue original_title  \\\n",
              "1329    12.037933   11000000   775398007      Star Wars   \n",
              "1386     9.432768  237000000  2781505847         Avatar   \n",
              "5231     4.355219  200000000  1845034188        Titanic   \n",
              "10594    2.010733    8000000   441306145   The Exorcist   \n",
              "9806     2.563191    7000000   470654000           Jaws   \n",
              "\n",
              "                                                    cast          director  \\\n",
              "1329   Mark Hamill|Harrison Ford|Carrie Fisher|Peter ...      George Lucas   \n",
              "1386   Sam Worthington|Zoe Saldana|Sigourney Weaver|S...     James Cameron   \n",
              "5231   Kate Winslet|Leonardo DiCaprio|Frances Fisher|...     James Cameron   \n",
              "10594  Linda Blair|Max von Sydow|Ellen Burstyn|Jason ...  William Friedkin   \n",
              "9806   Roy Scheider|Robert Shaw|Richard Dreyfuss|Lorr...  Steven Spielberg   \n",
              "\n",
              "       runtime                                    genres  \\\n",
              "1329       121          Adventure|Action|Science Fiction   \n",
              "1386       162  Action|Adventure|Fantasy|Science Fiction   \n",
              "5231       194                    Drama|Romance|Thriller   \n",
              "10594      122                     Drama|Horror|Thriller   \n",
              "9806       124                 Horror|Thriller|Adventure   \n",
              "\n",
              "                                    production_companies  vote_average  \\\n",
              "1329    Lucasfilm|Twentieth Century Fox Film Corporation           7.9   \n",
              "1386   Ingenious Film Partners|Twentieth Century Fox ...           7.1   \n",
              "5231   Paramount Pictures|Twentieth Century Fox Film ...           7.3   \n",
              "10594                      Warner Bros.|Hoya Productions           7.2   \n",
              "9806         Universal Pictures|Zanuck/Brown Productions           7.3   \n",
              "\n",
              "      release_year    budget_adj   revenue_adj        profit value  \n",
              "1329    1977-01-01  3.957559e+07  2.789712e+09  2.750137e+09  High  \n",
              "1386    2009-01-01  2.408869e+08  2.827124e+09  2.586237e+09  High  \n",
              "5231    1997-01-01  2.716921e+08  2.506406e+09  2.234714e+09  High  \n",
              "10594   1973-01-01  3.928928e+07  2.167325e+09  2.128036e+09  High  \n",
              "9806    1975-01-01  2.836275e+07  1.907006e+09  1.878643e+09  High  "
            ],
            "text/html": [
              "\n",
              "  <div id=\"df-40e57d29-3fa9-4ce8-98ea-7ef3c72590e4\">\n",
              "    <div class=\"colab-df-container\">\n",
              "      <div>\n",
              "<style scoped>\n",
              "    .dataframe tbody tr th:only-of-type {\n",
              "        vertical-align: middle;\n",
              "    }\n",
              "\n",
              "    .dataframe tbody tr th {\n",
              "        vertical-align: top;\n",
              "    }\n",
              "\n",
              "    .dataframe thead th {\n",
              "        text-align: right;\n",
              "    }\n",
              "</style>\n",
              "<table border=\"1\" class=\"dataframe\">\n",
              "  <thead>\n",
              "    <tr style=\"text-align: right;\">\n",
              "      <th></th>\n",
              "      <th>popularity</th>\n",
              "      <th>budget</th>\n",
              "      <th>revenue</th>\n",
              "      <th>original_title</th>\n",
              "      <th>cast</th>\n",
              "      <th>director</th>\n",
              "      <th>runtime</th>\n",
              "      <th>genres</th>\n",
              "      <th>production_companies</th>\n",
              "      <th>vote_average</th>\n",
              "      <th>release_year</th>\n",
              "      <th>budget_adj</th>\n",
              "      <th>revenue_adj</th>\n",
              "      <th>profit</th>\n",
              "      <th>value</th>\n",
              "    </tr>\n",
              "  </thead>\n",
              "  <tbody>\n",
              "    <tr>\n",
              "      <th>1329</th>\n",
              "      <td>12.037933</td>\n",
              "      <td>11000000</td>\n",
              "      <td>775398007</td>\n",
              "      <td>Star Wars</td>\n",
              "      <td>Mark Hamill|Harrison Ford|Carrie Fisher|Peter ...</td>\n",
              "      <td>George Lucas</td>\n",
              "      <td>121</td>\n",
              "      <td>Adventure|Action|Science Fiction</td>\n",
              "      <td>Lucasfilm|Twentieth Century Fox Film Corporation</td>\n",
              "      <td>7.9</td>\n",
              "      <td>1977-01-01</td>\n",
              "      <td>3.957559e+07</td>\n",
              "      <td>2.789712e+09</td>\n",
              "      <td>2.750137e+09</td>\n",
              "      <td>High</td>\n",
              "    </tr>\n",
              "    <tr>\n",
              "      <th>1386</th>\n",
              "      <td>9.432768</td>\n",
              "      <td>237000000</td>\n",
              "      <td>2781505847</td>\n",
              "      <td>Avatar</td>\n",
              "      <td>Sam Worthington|Zoe Saldana|Sigourney Weaver|S...</td>\n",
              "      <td>James Cameron</td>\n",
              "      <td>162</td>\n",
              "      <td>Action|Adventure|Fantasy|Science Fiction</td>\n",
              "      <td>Ingenious Film Partners|Twentieth Century Fox ...</td>\n",
              "      <td>7.1</td>\n",
              "      <td>2009-01-01</td>\n",
              "      <td>2.408869e+08</td>\n",
              "      <td>2.827124e+09</td>\n",
              "      <td>2.586237e+09</td>\n",
              "      <td>High</td>\n",
              "    </tr>\n",
              "    <tr>\n",
              "      <th>5231</th>\n",
              "      <td>4.355219</td>\n",
              "      <td>200000000</td>\n",
              "      <td>1845034188</td>\n",
              "      <td>Titanic</td>\n",
              "      <td>Kate Winslet|Leonardo DiCaprio|Frances Fisher|...</td>\n",
              "      <td>James Cameron</td>\n",
              "      <td>194</td>\n",
              "      <td>Drama|Romance|Thriller</td>\n",
              "      <td>Paramount Pictures|Twentieth Century Fox Film ...</td>\n",
              "      <td>7.3</td>\n",
              "      <td>1997-01-01</td>\n",
              "      <td>2.716921e+08</td>\n",
              "      <td>2.506406e+09</td>\n",
              "      <td>2.234714e+09</td>\n",
              "      <td>High</td>\n",
              "    </tr>\n",
              "    <tr>\n",
              "      <th>10594</th>\n",
              "      <td>2.010733</td>\n",
              "      <td>8000000</td>\n",
              "      <td>441306145</td>\n",
              "      <td>The Exorcist</td>\n",
              "      <td>Linda Blair|Max von Sydow|Ellen Burstyn|Jason ...</td>\n",
              "      <td>William Friedkin</td>\n",
              "      <td>122</td>\n",
              "      <td>Drama|Horror|Thriller</td>\n",
              "      <td>Warner Bros.|Hoya Productions</td>\n",
              "      <td>7.2</td>\n",
              "      <td>1973-01-01</td>\n",
              "      <td>3.928928e+07</td>\n",
              "      <td>2.167325e+09</td>\n",
              "      <td>2.128036e+09</td>\n",
              "      <td>High</td>\n",
              "    </tr>\n",
              "    <tr>\n",
              "      <th>9806</th>\n",
              "      <td>2.563191</td>\n",
              "      <td>7000000</td>\n",
              "      <td>470654000</td>\n",
              "      <td>Jaws</td>\n",
              "      <td>Roy Scheider|Robert Shaw|Richard Dreyfuss|Lorr...</td>\n",
              "      <td>Steven Spielberg</td>\n",
              "      <td>124</td>\n",
              "      <td>Horror|Thriller|Adventure</td>\n",
              "      <td>Universal Pictures|Zanuck/Brown Productions</td>\n",
              "      <td>7.3</td>\n",
              "      <td>1975-01-01</td>\n",
              "      <td>2.836275e+07</td>\n",
              "      <td>1.907006e+09</td>\n",
              "      <td>1.878643e+09</td>\n",
              "      <td>High</td>\n",
              "    </tr>\n",
              "  </tbody>\n",
              "</table>\n",
              "</div>\n",
              "      <button class=\"colab-df-convert\" onclick=\"convertToInteractive('df-40e57d29-3fa9-4ce8-98ea-7ef3c72590e4')\"\n",
              "              title=\"Convert this dataframe to an interactive table.\"\n",
              "              style=\"display:none;\">\n",
              "        \n",
              "  <svg xmlns=\"http://www.w3.org/2000/svg\" height=\"24px\"viewBox=\"0 0 24 24\"\n",
              "       width=\"24px\">\n",
              "    <path d=\"M0 0h24v24H0V0z\" fill=\"none\"/>\n",
              "    <path d=\"M18.56 5.44l.94 2.06.94-2.06 2.06-.94-2.06-.94-.94-2.06-.94 2.06-2.06.94zm-11 1L8.5 8.5l.94-2.06 2.06-.94-2.06-.94L8.5 2.5l-.94 2.06-2.06.94zm10 10l.94 2.06.94-2.06 2.06-.94-2.06-.94-.94-2.06-.94 2.06-2.06.94z\"/><path d=\"M17.41 7.96l-1.37-1.37c-.4-.4-.92-.59-1.43-.59-.52 0-1.04.2-1.43.59L10.3 9.45l-7.72 7.72c-.78.78-.78 2.05 0 2.83L4 21.41c.39.39.9.59 1.41.59.51 0 1.02-.2 1.41-.59l7.78-7.78 2.81-2.81c.8-.78.8-2.07 0-2.86zM5.41 20L4 18.59l7.72-7.72 1.47 1.35L5.41 20z\"/>\n",
              "  </svg>\n",
              "      </button>\n",
              "      \n",
              "  <style>\n",
              "    .colab-df-container {\n",
              "      display:flex;\n",
              "      flex-wrap:wrap;\n",
              "      gap: 12px;\n",
              "    }\n",
              "\n",
              "    .colab-df-convert {\n",
              "      background-color: #E8F0FE;\n",
              "      border: none;\n",
              "      border-radius: 50%;\n",
              "      cursor: pointer;\n",
              "      display: none;\n",
              "      fill: #1967D2;\n",
              "      height: 32px;\n",
              "      padding: 0 0 0 0;\n",
              "      width: 32px;\n",
              "    }\n",
              "\n",
              "    .colab-df-convert:hover {\n",
              "      background-color: #E2EBFA;\n",
              "      box-shadow: 0px 1px 2px rgba(60, 64, 67, 0.3), 0px 1px 3px 1px rgba(60, 64, 67, 0.15);\n",
              "      fill: #174EA6;\n",
              "    }\n",
              "\n",
              "    [theme=dark] .colab-df-convert {\n",
              "      background-color: #3B4455;\n",
              "      fill: #D2E3FC;\n",
              "    }\n",
              "\n",
              "    [theme=dark] .colab-df-convert:hover {\n",
              "      background-color: #434B5C;\n",
              "      box-shadow: 0px 1px 3px 1px rgba(0, 0, 0, 0.15);\n",
              "      filter: drop-shadow(0px 1px 2px rgba(0, 0, 0, 0.3));\n",
              "      fill: #FFFFFF;\n",
              "    }\n",
              "  </style>\n",
              "\n",
              "      <script>\n",
              "        const buttonEl =\n",
              "          document.querySelector('#df-40e57d29-3fa9-4ce8-98ea-7ef3c72590e4 button.colab-df-convert');\n",
              "        buttonEl.style.display =\n",
              "          google.colab.kernel.accessAllowed ? 'block' : 'none';\n",
              "\n",
              "        async function convertToInteractive(key) {\n",
              "          const element = document.querySelector('#df-40e57d29-3fa9-4ce8-98ea-7ef3c72590e4');\n",
              "          const dataTable =\n",
              "            await google.colab.kernel.invokeFunction('convertToInteractive',\n",
              "                                                     [key], {});\n",
              "          if (!dataTable) return;\n",
              "\n",
              "          const docLinkHtml = 'Like what you see? Visit the ' +\n",
              "            '<a target=\"_blank\" href=https://colab.research.google.com/notebooks/data_table.ipynb>data table notebook</a>'\n",
              "            + ' to learn more about interactive tables.';\n",
              "          element.innerHTML = '';\n",
              "          dataTable['output_type'] = 'display_data';\n",
              "          await google.colab.output.renderOutput(dataTable, element);\n",
              "          const docLink = document.createElement('div');\n",
              "          docLink.innerHTML = docLinkHtml;\n",
              "          element.appendChild(docLink);\n",
              "        }\n",
              "      </script>\n",
              "    </div>\n",
              "  </div>\n",
              "  "
            ]
          },
          "metadata": {},
          "execution_count": 52
        }
      ]
    },
    {
      "cell_type": "code",
      "source": [
        "plt.bar([\"Star Wars\", \"Avatar\", \"Titanic\", \"The Exorcist\",\"Jaws\" ], [2.750137e+09,2.586237e+09,2.234714e+09,2.128036e+09,1.878643e+09]);\n",
        "plt.title(\"Top 5 movies with highest profit\")\n",
        "plt.xlabel(\"Movies\")\n",
        "plt.ylabel(\"Profit\");"
      ],
      "metadata": {
        "colab": {
          "base_uri": "https://localhost:8080/",
          "height": 295
        },
        "id": "4F4gfqWnst5p",
        "outputId": "9e1ab562-12e7-4a93-a6a3-c382a41db174"
      },
      "execution_count": 53,
      "outputs": [
        {
          "output_type": "display_data",
          "data": {
            "text/plain": [
              "<Figure size 432x288 with 1 Axes>"
            ],
            "image/png": "[encoded data removed]"
          },
          "metadata": {
            "needs_background": "light"
          }
        }
      ]
    },
    {
      "cell_type": "markdown",
      "source": [
        "#### The five movies with the highest profit are: Star wars, Avatar, Titanic, The exorsist and Jaws."
      ],
      "metadata": {
        "id": "7tFE0Qh80pBf"
      }
    },
    {
      "cell_type": "markdown",
      "source": [
        "## STEP FOUR: DRAWING CONCLUSIONS\n",
        "First thing we notice is that all the variables are not normally distributed from the histogram displayed: Let us draw conclusion the answered to the questions posed.\n",
        "\n",
        "**RESULTS**\n",
        "\n",
        "Q1. Between the year 1960 and 2015, there was an overall decrease in the average ratings of all movies. with a value of 0.4\n",
        "\n",
        "Q2.  Over the years there is an increase in the popularity of the movies with about 0.58\n",
        "\n",
        "Q3. Movies with higher popularity had higher revenue\n",
        "\n",
        "Q4. The top 5 cast members with highest movie voting are: Elijah wood, Micheal Caine, Jared Leto, ian Mckellen, Robert De Niro\n",
        "\n",
        "Q5. The 5 most popular genres are: Drama, Documentary, Music Comedy and crime\n",
        "\n",
        "Q6. The five movies with the highest profit are: Star wars, Avatar, Titanic, The exorsist and Jaws.\n",
        "\n",
        "**LIMITATIONS**\n",
        "\n",
        "1. There is no much correlation between the numerical features in the dataset\n",
        "2. Since most features are categorical, we cannot come to a conclusion regarding the correlation between such features\n",
        "\n",
        "    We can still make some more analysing top five most successful movie directors or op five most successful movie production companies. In such case, the consept is the same."
      ],
      "metadata": {
        "id": "LCAfiSgmQ0M_"
      }
    },
    {
      "cell_type": "code",
      "source": [
        ""
      ],
      "metadata": {
        "id": "mmn8PeMIjf8r"
      },
      "execution_count": null,
      "outputs": []
    }
  ]
}